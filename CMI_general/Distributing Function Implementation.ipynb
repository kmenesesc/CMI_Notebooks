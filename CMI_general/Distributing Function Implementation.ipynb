{
 "cells": [
  {
   "cell_type": "code",
   "execution_count": 1,
   "metadata": {
    "collapsed": true
   },
   "outputs": [],
   "source": [
    "import numpy as np\n",
    "import math"
   ]
  },
  {
   "cell_type": "code",
   "execution_count": 8,
   "metadata": {
    "collapsed": false
   },
   "outputs": [],
   "source": [
    "#Distributive function takes in a grid of data in form of a nxn matrix where each point (i,j) is associated with a weight so that\n",
    "#A(i,j) = r for some r \\in \\mathbb{R} and distributes each weight evenly with its neighboring points (into fourths)\n",
    "def clusterEvenDistribute(A):\n",
    "    n = int(math.sqrt(A.size)) #Size of matrix\n",
    "    data_lattice_distribution = A.astype(float)/4 #Initialize the matrix that will contain the even distribution\n",
    "    weight = np.copy(data_lattice_distribution) #keep a copy for the weight of each point\n",
    "    for j in range (0,n):\n",
    "        for i in range(0,n):\n",
    "            if (i != n-1):\n",
    "                data_lattice_distribution[i+1][j] = data_lattice_distribution[i+1][j] + weight[i][j]\n",
    "            if ( j != 0 and i!= n-1):\n",
    "                data_lattice_distribution[i+1][j-1] = data_lattice_distribution[i+1][j-1] + weight[i][j]\n",
    "            if (j != 0):\n",
    "                data_lattice_distribution[i][j-1] = data_lattice_distribution[i][j-1] + weight[i][j]\n",
    "    return data_lattice_distribution\n"
   ]
  },
  {
   "cell_type": "code",
   "execution_count": 9,
   "metadata": {
    "collapsed": true
   },
   "outputs": [],
   "source": [
    "#Exaample: Define the following data\n",
    "data_lattice = np.array([[2, 5, 4, 6, 2],\n",
    "       [0, 9, 8, 9, 4],\n",
    "       [6, 2, 5, 1, 4],\n",
    "       [5, 0, 7, 1, 9],\n",
    "       [5, 9, 7, 9, 1]])"
   ]
  },
  {
   "cell_type": "code",
   "execution_count": 10,
   "metadata": {
    "collapsed": false
   },
   "outputs": [
    {
     "data": {
      "text/plain": [
       "array([[ 1.75,  2.25,  2.5 ,  2.  ,  0.5 ],\n",
       "       [ 4.  ,  6.5 ,  6.75,  5.25,  1.5 ],\n",
       "       [ 4.25,  6.  ,  5.75,  4.5 ,  2.  ],\n",
       "       [ 3.25,  3.5 ,  3.5 ,  3.75,  3.25],\n",
       "       [ 4.75,  5.75,  6.  ,  5.  ,  2.5 ]])"
      ]
     },
     "execution_count": 10,
     "metadata": {},
     "output_type": "execute_result"
    }
   ],
   "source": [
    "clusterEvenDistribute(data_lattice)"
   ]
  },
  {
   "cell_type": "code",
   "execution_count": null,
   "metadata": {
    "collapsed": true
   },
   "outputs": [],
   "source": []
  }
 ],
 "metadata": {
  "anaconda-cloud": {},
  "kernelspec": {
   "display_name": "Python [default]",
   "language": "python",
   "name": "python3"
  },
  "language_info": {
   "codemirror_mode": {
    "name": "ipython",
    "version": 3
   },
   "file_extension": ".py",
   "mimetype": "text/x-python",
   "name": "python",
   "nbconvert_exporter": "python",
   "pygments_lexer": "ipython3",
   "version": "3.5.2"
  }
 },
 "nbformat": 4,
 "nbformat_minor": 0
}
