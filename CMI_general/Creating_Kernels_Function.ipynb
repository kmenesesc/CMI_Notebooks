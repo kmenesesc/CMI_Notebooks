{
 "cells": [
  {
   "cell_type": "code",
   "execution_count": 3,
   "metadata": {
    "collapsed": true
   },
   "outputs": [],
   "source": [
    "import numpy as np\n",
    "import math"
   ]
  },
  {
   "cell_type": "code",
   "execution_count": 4,
   "metadata": {
    "collapsed": false
   },
   "outputs": [],
   "source": [
    "#Takes in vectors c,d, the number of points to generate per data point and the distribution of the kernel function\n",
    "\n",
    "def createClusters(c,d,n,mu,sigma):\n",
    "    if (c.size == d.size):\n",
    "        a = np.array(c)\n",
    "        b = np.array(d)\n",
    "        for i in range (0 , c.size):\n",
    "            theta = math.pi*np.random.rand(n) #create angles randomly\n",
    "            radii = np.random.normal(mu, sigma, n) #create radii using normal distribution\n",
    "            #Initialize vectors that will contain additional data\n",
    "            x = np.zeros(n)\n",
    "            y = np.zeros(n)\n",
    "            #Find x,y coordinates of additional points\n",
    "            np.multiply(radii,np.sin(theta),y) \n",
    "            np.multiply(radii,np.cos(theta),x)\n",
    "            #Shift the points to be around the corresponding data point\n",
    "            x = x + a[i]\n",
    "            y = y + b[i]\n",
    "            a = np.append(a,x)\n",
    "            b = np.append(b,y)    \n",
    "        return a,b\n"
   ]
  },
  {
   "cell_type": "code",
   "execution_count": 5,
   "metadata": {
    "collapsed": false
   },
   "outputs": [
    {
     "name": "stdout",
     "output_type": "stream",
     "text": [
      "(array([ 4.71671957,  2.61179601,  2.57650199,  2.81884829,  0.31051939,\n",
      "        4.38391871,  4.84374636,  5.0224351 ,  5.16911246,  4.21796201,\n",
      "        3.2606508 ,  2.53875237,  2.86947815,  2.66853196,  1.8163037 ,\n",
      "        2.30761538,  2.55802213,  2.61773836,  2.28728232,  3.23142773,\n",
      "        2.88047549,  2.43115083,  3.3576736 ,  3.12038625,  2.43003909,\n",
      "       -0.33561835,  0.50576889,  0.26457309,  0.49081903,  1.53730851]), array([ 4.2776846 ,  2.20058435,  4.49611382,  0.63765688,  0.50276141,\n",
      "        4.49812791,  4.32737599,  3.55669936,  4.19516369,  4.01162992,\n",
      "        2.64546154,  2.68848195,  1.87494648,  2.38490132,  2.70441628,\n",
      "        4.29444914,  4.6245275 ,  4.48737413,  4.33128833,  4.56985532,\n",
      "        0.52747697,  0.88481184,  1.43014631,  0.43586251, -0.45589532,\n",
      "        2.37654137,  0.38964904,  0.23624106,  0.48647434,  0.42995599]))\n"
     ]
    }
   ],
   "source": [
    "a = np.array([ 4.71671957 , 2.61179601 , 2.57650199 , 2.81884829 , 0.31051939])\n",
    "b = np.array([ 4.2776846  , 2.20058435 , 4.49611382 , 0.63765688 , 0.50276141])\n",
    "aP = np.array([ 4.71671957 , 2.61179601 , 2.57650199 , 2.81884829 , 0.31051939])\n",
    "bP = np.array([ 4.2776846  , 2.20058435 , 4.49611382 , 0.63765688 , 0.50276141])\n",
    "print(createClusters(a,b,5,0,1))"
   ]
  },
  {
   "cell_type": "code",
   "execution_count": 6,
   "metadata": {
    "collapsed": false
   },
   "outputs": [
    {
     "name": "stdout",
     "output_type": "stream",
     "text": [
      "[ 4.71671957  2.61179601  2.57650199  2.81884829  0.31051939  3.96390186\n",
      "  4.46394293  5.32690693  4.98294379  3.2199911   3.40567972  2.70322976\n",
      "  3.26848973  2.11734428  2.47576182  2.80318877  2.4160059   3.15272889\n",
      "  1.61234068  2.51388102  2.5942138   1.90060637  2.68594214  2.42618609\n",
      "  2.86516791  0.92417212 -0.33422714 -0.22349632  0.3737302   0.25961315]\n",
      "[ 4.2776846   2.20058435  4.49611382  0.63765688  0.50276141  4.90991434\n",
      "  4.23901836  3.88648206  4.58657989  4.01379809  2.6143539   1.70200892\n",
      "  2.7782951   2.48053288  2.35670669  3.94190195  4.95117514  3.40547864\n",
      "  4.99170156  4.14955745  0.2865031   1.39352408  0.46466383  0.17021525\n",
      "  0.72672565 -0.61643725  1.2545448   1.64727229  0.66441695  0.11548758]\n"
     ]
    }
   ],
   "source": [
    "(a,b) = createClusters(a,b,5,0,1)\n",
    "print(a)\n",
    "print(b)"
   ]
  },
  {
   "cell_type": "code",
   "execution_count": null,
   "metadata": {
    "collapsed": true
   },
   "outputs": [],
   "source": []
  },
  {
   "cell_type": "code",
   "execution_count": null,
   "metadata": {
    "collapsed": true
   },
   "outputs": [],
   "source": []
  }
 ],
 "metadata": {
  "anaconda-cloud": {},
  "kernelspec": {
   "display_name": "Python [default]",
   "language": "python",
   "name": "python3"
  },
  "language_info": {
   "codemirror_mode": {
    "name": "ipython",
    "version": 3
   },
   "file_extension": ".py",
   "mimetype": "text/x-python",
   "name": "python",
   "nbconvert_exporter": "python",
   "pygments_lexer": "ipython3",
   "version": "3.5.2"
  }
 },
 "nbformat": 4,
 "nbformat_minor": 1
}
