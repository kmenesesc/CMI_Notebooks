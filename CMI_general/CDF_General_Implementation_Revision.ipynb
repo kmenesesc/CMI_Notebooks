{
 "cells": [
  {
   "cell_type": "markdown",
   "metadata": {
    "collapsed": true
   },
   "source": [
    "# Smooth data on a $b \\times b$ grid then compute the Cumutal Mutual Information based on the difference between joint and marginal cumulative entropies\n"
   ]
  },
  {
   "cell_type": "code",
   "execution_count": 13,
   "metadata": {
    "collapsed": false
   },
   "outputs": [],
   "source": [
    "import matplotlib.pyplot as plt\n",
    "%matplotlib inline\n",
    "import numpy as np\n",
    "import math\n",
    "from mpl_toolkits.mplot3d import Axes3D"
   ]
  },
  {
   "cell_type": "markdown",
   "metadata": {},
   "source": [
    "# Original Data"
   ]
  },
  {
   "cell_type": "code",
   "execution_count": 14,
   "metadata": {
    "collapsed": false
   },
   "outputs": [],
   "source": [
    "sizeOfVector = 10\n",
    "#x = np.random.rand(sizeOfVector) #For a given vector x with random value numbers and\n",
    "#y =x #+ 0.1*np.random.rand(sizeOfVector) #a given vector y with random value numbers\n",
    "\n",
    "x = np.array([ 0.6358171 ,  0.99577192 , 0.64413589 , 0.68141891 , 0.64693171 , 0.27456281 , 0.08515774 , 0.24606362 , 0.79079224 , 0.12927175])\n",
    "y = np.array([ 0.41911051 , 0.05476291 , 0.7635048 ,  0.05124239 , 0.7299192  , 0.1485072 , 0.92069862 , 0.85522989 , 0.88012141 , 0.6219437])\n",
    "\n",
    "#print(x)\n",
    "#print(y)\n",
    "#plt.scatter(x,y)"
   ]
  },
  {
   "cell_type": "markdown",
   "metadata": {},
   "source": [
    "# Resizing Data"
   ]
  },
  {
   "cell_type": "code",
   "execution_count": 15,
   "metadata": {
    "collapsed": false
   },
   "outputs": [],
   "source": [
    "b =5 #SIZE OF GRID\n",
    "#Distribution formula in 1 dimension\n",
    "x_r = ((x-min(x))/(max(x)-min(x)))*b #Let x' be the vector x rescaled on the interval [0,b]\n",
    "y_r = ((y-min(y))/(max(y)-min(y)))*b #Let y' be the vector y rescaled on the interval [0,b]\n",
    "\n",
    "\n",
    "x=x-np.mean(x)\n",
    "y=y-np.mean(y)\n",
    "\n",
    "#x_r = x*b #Let x' be the vector x rescaled on the interval [0,b]\n",
    "#y_r = y*b #Let y' be the vector y rescaled on the interval [0,b]\n",
    "\n",
    "\n",
    "#plt.scatter(x_r,y_r)\n",
    "#print(x_r)\n",
    "#print(y_r)"
   ]
  },
  {
   "cell_type": "code",
   "execution_count": 16,
   "metadata": {
    "collapsed": false
   },
   "outputs": [
    {
     "name": "stdout",
     "output_type": "stream",
     "text": [
      "[ 3.02356021  5.          3.06923702  3.27395061  3.08458831  1.03998529\n",
      "  0.          0.88350195  3.87449765  0.24222119]\n"
     ]
    }
   ],
   "source": [
    "print(x_r)"
   ]
  },
  {
   "cell_type": "markdown",
   "metadata": {},
   "source": [
    "# Smoothing Data"
   ]
  },
  {
   "cell_type": "code",
   "execution_count": 17,
   "metadata": {
    "collapsed": false
   },
   "outputs": [],
   "source": [
    "x_p = np.zeros(x_r.size)\n",
    "y_p = np.zeros(y_r.size)\n",
    "\n",
    "#Take the ceiling of x_p and y_p\n",
    "for i in range(0,sizeOfVector):\n",
    "    x_p[i] = np.ceil(x_r[i])\n",
    "    y_p[i] = np.ceil(y_r[i])\n",
    "\n",
    "    \n",
    "#plt.scatter(x_p,y_p)\n",
    "#print(x_p)\n",
    "#print(y_p)"
   ]
  },
  {
   "cell_type": "code",
   "execution_count": 31,
   "metadata": {
    "collapsed": false
   },
   "outputs": [
    {
     "name": "stdout",
     "output_type": "stream",
     "text": [
      "[ 3.02356021  5.          3.06923702  3.27395061  3.08458831  1.03998529\n",
      "  0.          0.88350195  3.87449765  0.24222119]\n",
      "[ 4.  5.  4.  4.  4.  2.  0.  1.  4.  1.]\n",
      "[ 3.  1.  5.  0.  4.  1.  5.  5.  5.  4.]\n"
     ]
    }
   ],
   "source": [
    "print(x_r)\n",
    "print(x_p)\n",
    "print(y_p)"
   ]
  },
  {
   "cell_type": "code",
   "execution_count": 37,
   "metadata": {
    "collapsed": false
   },
   "outputs": [
    {
     "data": {
      "image/png": "[encoded data removed]",
      "text/plain": [
       "<matplotlib.figure.Figure at 0x1ed57731320>"
      ]
     },
     "metadata": {},
     "output_type": "display_data"
    }
   ],
   "source": [
    "fig1 = plt.figure()\n",
    "ax11 = fig1.add_subplot(111)\n",
    "\n",
    "ax11.scatter(x_p,y_p, s = 10 ,c='b', marker=\"s\", label='Recollected Data')\n",
    "ax11.scatter(x_r,y_r, s = 10, c='r', marker=\"o\", label='Original Data')\n",
    "#plt.legend(loc='upper left');\n",
    "plt.grid()\n",
    "plt.show()\n"
   ]
  },
  {
   "cell_type": "code",
   "execution_count": 35,
   "metadata": {
    "collapsed": false
   },
   "outputs": [
    {
     "name": "stdout",
     "output_type": "stream",
     "text": [
      "10\n",
      "10\n"
     ]
    }
   ],
   "source": [
    "print(x_r.size)\n",
    "print(x_p.size)"
   ]
  },
  {
   "cell_type": "markdown",
   "metadata": {},
   "source": [
    "# Find Cumulative Density function in 2D"
   ]
  },
  {
   "cell_type": "code",
   "execution_count": 40,
   "metadata": {
    "collapsed": false
   },
   "outputs": [],
   "source": [
    "#This will create function distribution which will count the number of points at each grid square\n",
    "distribution= [[0 for i in range(b+1)] for i in range(b+1)]\n",
    "\n",
    "#for j in range (0,b+1):     \n",
    "#    PXY[0][j] = 0\n",
    "#    PXY[j][0] = 0\n",
    "    \n",
    "for j in range (0,b+1):\n",
    "    for i in range (0, b+1): #For every upper right corner   \n",
    "        #print(\"(\" + str(i) + \",\" + str(j) + \") :\") #print points  \n",
    "        counter = 0\n",
    "        for k in range (0, sizeOfVector): #For every point data given\n",
    "            if (x_p[k]== i) and (y_p[k] == j): #If the point of the data matches the upper right hand corner\n",
    "                #print(\"(\" + str(x_p[k]) + \",\" + str(y_p[k]) + \")\")\n",
    "                counter = counter+1 #Then add 1 to the distribution counter\n",
    "#        if(distribution != 0):\n",
    "#            print(\"(\" + str(i) + \",\" + str(j) + \") :\") #print points  \n",
    "#            print(distribution)        \n",
    "        distribution[i][j] = counter\n",
    "#PXY is now distribution\n",
    "#distribution is now counter\n",
    "\n"
   ]
  },
  {
   "cell_type": "code",
   "execution_count": 50,
   "metadata": {
    "collapsed": false
   },
   "outputs": [
    {
     "name": "stdout",
     "output_type": "stream",
     "text": [
      "2\n"
     ]
    }
   ],
   "source": [
    "print(distribution[4][5])"
   ]
  },
  {
   "cell_type": "code",
   "execution_count": 46,
   "metadata": {
    "collapsed": true
   },
   "outputs": [],
   "source": [
    "#Now we count the number of points on or below each square to create PXY\n",
    "#This count includes those points that are on the boundary\n",
    "lattice_count = np.asarray(distribution)    # Array of tile data counts\n",
    "np.cumsum(lattice_count,axis=1, out=lattice_count)\n",
    "np.cumsum(lattice_count, axis=0, out=lattice_count)\n",
    "PXY = lattice_count/float(sizeOfVector)\n"
   ]
  },
  {
   "cell_type": "code",
   "execution_count": 51,
   "metadata": {
    "collapsed": false
   },
   "outputs": [
    {
     "name": "stdout",
     "output_type": "stream",
     "text": [
      "2\n"
     ]
    }
   ],
   "source": [
    "print(lattice_count[3][4])"
   ]
  },
  {
   "cell_type": "markdown",
   "metadata": {},
   "source": [
    "# Plotting the Cumulative Density Function"
   ]
  },
  {
   "cell_type": "code",
   "execution_count": 52,
   "metadata": {
    "collapsed": false
   },
   "outputs": [
    {
     "data": {
      "text/plain": [
       "<matplotlib.text.Text at 0x2b6ed28b898>"
      ]
     },
     "execution_count": 52,
     "metadata": {},
     "output_type": "execute_result"
    },
    {
     "data": {
      "image/png": "[encoded data removed]",
      "text/plain": [
       "<matplotlib.figure.Figure at 0x2b6f38150f0>"
      ]
     },
     "metadata": {},
     "output_type": "display_data"
    }
   ],
   "source": [
    "k =0\n",
    "\n",
    "sizeOfMatrix = (b+1)*(b+1)\n",
    "\n",
    "x_c=[0]*sizeOfMatrix\n",
    "y_c=[0]*sizeOfMatrix\n",
    "z_c=[0]*sizeOfMatrix\n",
    "\n",
    "for i in range (0,b+1):   \n",
    "    for j in range (0,b+1):\n",
    "        \n",
    "        x_c[k] = i\n",
    "        y_c[k] = j\n",
    "        z_c[k] = PXY[i][j]\n",
    "        k = k+1\n",
    "  \n",
    "    \n",
    "#print(x_c)\n",
    "#print(y_c)\n",
    "#print(z_c)\n",
    "\n",
    "fig = plt.figure()\n",
    "ax = fig.add_subplot(111, projection='3d')\n",
    "ax.scatter(x_c, y_c, z_c, c='r', marker='o')\n",
    "\n",
    "ax.set_xlabel('X Label')\n",
    "ax.set_ylabel('Y Label')\n",
    "ax.set_zlabel('Z Label')\n"
   ]
  },
  {
   "cell_type": "markdown",
   "metadata": {},
   "source": [
    "# Calculate Cumulative Entropy in 2D"
   ]
  },
  {
   "cell_type": "code",
   "execution_count": 52,
   "metadata": {
    "collapsed": false
   },
   "outputs": [
    {
     "name": "stdout",
     "output_type": "stream",
     "text": [
      "0.19608432648\n"
     ]
    }
   ],
   "source": [
    "#Calculate CE(X,Y)\n",
    "CEXY =0 \n",
    "\n",
    "for i in range (1, b+1):\n",
    "    for j in range (1 ,b+1):\n",
    "        if (PXY[i][j] != 0):\n",
    "            CEXY = CEXY - PXY[i][j]*np.log(PXY[i][j]) \n",
    "\n",
    "#print(CEXY)\n",
    "            \n",
    "CEXY= CEXY*(((max(x)-min(x))/b))*(((max(y)-min(y))/b))\n",
    "\n",
    "print(CEXY)\n",
    "    "
   ]
  },
  {
   "cell_type": "markdown",
   "metadata": {},
   "source": [
    "# Find Cumulative Density Distribution in 1D"
   ]
  },
  {
   "cell_type": "code",
   "execution_count": 54,
   "metadata": {
    "collapsed": false
   },
   "outputs": [
    {
     "name": "stdout",
     "output_type": "stream",
     "text": [
      "[0.0, 0.2, 0.4, 0.6, 0.8]\n"
     ]
    }
   ],
   "source": [
    "P = [i/(b) for i in range(b)]\n",
    "print(P)\n",
    "#plt.plot(P)\n"
   ]
  },
  {
   "cell_type": "code",
   "execution_count": 55,
   "metadata": {
    "collapsed": false
   },
   "outputs": [
    {
     "name": "stdout",
     "output_type": "stream",
     "text": [
      "0.213705501973\n",
      "0.204046438279\n"
     ]
    }
   ],
   "source": [
    "\n",
    "#Calculate Cumulative Entropy of X and Y (Note CE(X) = CE(Y) by symmetry)\n",
    "CEXoY = 0\n",
    "\n",
    "for i in range (0,b):\n",
    "    if(P[i] != 0):\n",
    "        CEXoY = CEXoY - P[i]*np.log(P[i])\n",
    "\n",
    "#print(CEXoY)\n",
    "\n",
    "\n",
    "CEX = CEXoY*(((max(x)-min(x))/b))\n",
    "CEY = CEXoY*(((max(y)-min(y))/b))\n",
    "\n",
    "print(CEX)\n",
    "print(CEY)\n"
   ]
  },
  {
   "cell_type": "code",
   "execution_count": 56,
   "metadata": {
    "collapsed": false
   },
   "outputs": [
    {
     "name": "stdout",
     "output_type": "stream",
     "text": [
      "0.0171800319812\n",
      "0.0133871339559\n"
     ]
    }
   ],
   "source": [
    "#CMI= CEXY - (max(y) - np.mean(y))*CEX - (max(x) - np.mean(x))*CEY \n",
    "CMI = CEXY - (max(y) - np.mean(y))*CEX - (max(x) - np.mean(x))*CEY \n",
    "print(CMI) #Compare to -0.0420891467695\n",
    "CMI = CMI/np.max(x)*np.max(y)\n",
    "print(CMI)"
   ]
  },
  {
   "cell_type": "code",
   "execution_count": 57,
   "metadata": {
    "collapsed": true
   },
   "outputs": [],
   "source": [
    "CMI = CMI/(np.max(x)*np.max(y))"
   ]
  },
  {
   "cell_type": "code",
   "execution_count": 58,
   "metadata": {
    "collapsed": false
   },
   "outputs": [
    {
     "data": {
      "text/plain": [
       "0.073709970090297922"
      ]
     },
     "execution_count": 58,
     "metadata": {},
     "output_type": "execute_result"
    }
   ],
   "source": [
    "CMI #Compare to -0.231744132816"
   ]
  },
  {
   "cell_type": "code",
   "execution_count": null,
   "metadata": {
    "collapsed": true
   },
   "outputs": [],
   "source": [
    "# Need to do: Compute and Compare values of CEXY with the non-smooth version (They seem to coorelate)\n",
    "#Do the same with CEX and CEY these don't seem to coorrelate"
   ]
  }
 ],
 "metadata": {
  "anaconda-cloud": {},
  "kernelspec": {
   "display_name": "Python [default]",
   "language": "python",
   "name": "python3"
  },
  "language_info": {
   "codemirror_mode": {
    "name": "ipython",
    "version": 3
   },
   "file_extension": ".py",
   "mimetype": "text/x-python",
   "name": "python",
   "nbconvert_exporter": "python",
   "pygments_lexer": "ipython3",
   "version": "3.5.2"
  }
 },
 "nbformat": 4,
 "nbformat_minor": 0
}
