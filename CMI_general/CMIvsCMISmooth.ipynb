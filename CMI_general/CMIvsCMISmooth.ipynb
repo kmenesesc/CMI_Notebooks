{
 "cells": [
  {
   "cell_type": "code",
   "execution_count": 1,
   "metadata": {
    "collapsed": true
   },
   "outputs": [],
   "source": [
    "import matplotlib.pyplot as plt\n",
    "%matplotlib inline\n",
    "import numpy as np\n",
    "import numpy\n",
    "import math\n",
    "from scipy.stats import pearsonr"
   ]
  },
  {
   "cell_type": "markdown",
   "metadata": {},
   "source": [
    "# Create CMI without smoothing function based on difference"
   ]
  },
  {
   "cell_type": "code",
   "execution_count": 2,
   "metadata": {
    "collapsed": true
   },
   "outputs": [],
   "source": [
    "def CMI_diff(x, y):\n",
    "    \"This function computes the Cumulative Mutual Information based on the difference between joint and marginals CE's\"\n",
    "    x = x - np.mean(x)\n",
    "    y = y - np.mean(y)\n",
    "    N = len(x)\n",
    "    lattice_x = np.zeros((N, N), dtype=\"float_\")    # Array of lower x tile coordinates\n",
    "    lattice_y = np.zeros((N, N), dtype=\"float_\")     # Array of lower y tile coordinates\n",
    "    lattice_area = np.zeros((N, N), dtype=\"float_\")   # Array of tile areas\n",
    "    lattice_count = np.zeros((N, N), dtype=\"uint8\")    # Array of tile data counts\n",
    "    x_order = np.argsort(x, kind='quicksort')\n",
    "    x_sorted = x[x_order]\n",
    "    y_order = np.argsort(y, kind='quicksort')\n",
    "    y_sorted = y[y_order]\n",
    "    ind = np.arange(0, N, 1)\n",
    "    ind_x_order = np.argsort(x_order, kind='quicksort') \n",
    "    ind_x = ind[ind_x_order]\n",
    "    ind_y_order = np.argsort(y_order, kind='quicksort') \n",
    "    ind_y = ind[ind_y_order]\n",
    "    for i in range(N):\n",
    "        for j in range(N):\n",
    "            lattice_x[i, j] = x_sorted[i]\n",
    "            lattice_y[i, j] = y_sorted[j]\n",
    "            if i < (N-1) and j < (N-1):\n",
    "                lattice_area[i, j] = (x_sorted[i+1] - x_sorted[i])*(y_sorted[j+1] - y_sorted[j])\n",
    "        \n",
    "    for i in range(N): \n",
    "        lattice_count[ind_x[i], ind_y[i]] = 1 \n",
    "\n",
    "    np.cumsum(lattice_count, axis=1, out=lattice_count)\n",
    "    np.cumsum(lattice_count, axis=0, out=lattice_count)\n",
    "    CDF_xy = lattice_count/float(N)\n",
    "    CDF_x = np.arange(0, N, 1)/float(N)\n",
    "    CDF_y = CDF_x\n",
    "    CE_x = 0\n",
    "    CE_y = 0\n",
    "    for i in range(N-1):\n",
    "        if CDF_x[i] != 0:\n",
    "            CE_x = CE_x - (x_sorted[i+1] - x_sorted[i]) * CDF_x[i] * math.log(CDF_x[i])\n",
    "        if CDF_y[i] != 0:       \n",
    "            CE_y = CE_y - (y_sorted[i+1] - y_sorted[i]) * CDF_y[i] * math.log(CDF_y[i])\n",
    "\n",
    "    CE_xy = 0\n",
    "    for i in range(N):\n",
    "        for j in range(N):\n",
    "            if CDF_xy[i, j] != 0:\n",
    "                CE_xy = CE_xy - lattice_area[i, j] * CDF_xy[i, j] * math.log(CDF_xy[i, j])\n",
    "             \n",
    "    # Compute the CMI based on the difference between joint and marginals CE's        \n",
    "            \n",
    "    CMI = CE_xy - (max(y) - np.mean(y))*CE_x - (max(x) - np.mean(x))*CE_y  \n",
    "    #if CMI < 0:\n",
    "    #    CMI = 0\n",
    "\n",
    "    rho, p = pearsonr(x, y)\n",
    "    \n",
    "    #return (np.sign(rho)* CMI/(np.max(x)*np.max(y)))\n",
    "    return (CMI/(np.max(x)*np.max(y)))"
   ]
  },
  {
   "cell_type": "markdown",
   "metadata": {},
   "source": [
    "# Create CMI with smoothing function"
   ]
  },
  {
   "cell_type": "code",
   "execution_count": 3,
   "metadata": {
    "collapsed": true
   },
   "outputs": [],
   "source": [
    "#CMI smooth takes in two data vectors, and creates bxb grid\n",
    "def CMI_smooth_v1(x,y,b):\n",
    "    \n",
    "    if len(x)==len(y):\n",
    "        sizeOfVector = len(x)\n",
    "        \n",
    "        x_r = ((x-min(x))/(max(x)-min(x)))*b #Let x' be the vector x rescaled on the interval [0,b]\n",
    "        y_r = ((y-min(y))/(max(y)-min(y)))*b #Let y' be the vector y rescaled on the interval [0,b]\n",
    "        \n",
    "        x=x-numpy.mean(x)\n",
    "        y=y-numpy.mean(y)\n",
    "        \n",
    "        #smooth data by aligning it with the bXb grid\n",
    "        x_p = x_r\n",
    "        y_p = y_r\n",
    "        for i in range(0,sizeOfVector):\n",
    "            x_p[i] = numpy.ceil(x_r[i])\n",
    "            y_p[i] = numpy.ceil(y_r[i])\n",
    "            \n",
    "        #This will create function distribution which will count the number of points at each grid square\n",
    "        distribution= [[0 for i in range(b+1)] for i in range(b+1)]\n",
    "        for j in range (0,b+1):\n",
    "            for i in range (0, b+1): #For every upper right corner   \n",
    "                counter = 0\n",
    "                for k in range (0, sizeOfVector): #For every point data given\n",
    "                    if (x_p[k]== i) and (y_p[k] == j): #If the point of the data matches the upper right hand corner\n",
    "                        counter = counter+1 #Then add 1 to the distribution counter\n",
    "                distribution[i][j] = counter\n",
    "                \n",
    "        #Now we count the number of points on or below each square to create PXY\n",
    "        lattice_count = numpy.asarray(distribution)    # Array of tile data counts\n",
    "        numpy.cumsum(lattice_count,axis=1, out=lattice_count)\n",
    "        numpy.cumsum(lattice_count, axis=0, out=lattice_count)\n",
    "        PXY = lattice_count/float(sizeOfVector)\n",
    "        \n",
    "        #Calculate CE(X,Y)\n",
    "        CEXY =0 \n",
    "        for i in range (1, b+1):\n",
    "            for j in range (1 ,b+1):\n",
    "                if (PXY[i][j] != 0):\n",
    "                    CEXY = CEXY - PXY[i][j]*numpy.log(PXY[i][j]) \n",
    "                    \n",
    "        #Scale CE(X,Y) back to original data interval\n",
    "        CEXY= CEXY*(((max(x)-min(x))/b))*(((max(y)-min(y))/b))\n",
    "\n",
    "        #Find Cumulative distribution function in 1D\n",
    "        P = [i/(b+1) for i in range(b +1)]\n",
    "\n",
    "        #Calculate Cumulative Entropy of X and Y (Note CE(X) = CE(Y) by symmetry)\n",
    "        CEXoY = 0\n",
    "        for i in range (0,b):\n",
    "            if(P[i] != 0):\n",
    "                CEXoY = CEXoY - P[i]*numpy.log(P[i])\n",
    "\n",
    "        #Scale back the data to original interval\n",
    "        CEX = CEXoY*(((max(x)-min(x))/b))\n",
    "        CEY = CEXoY*(((max(y)-min(y))/b))\n",
    "        \n",
    "        CMI = CEXY - (max(y) - numpy.mean(y))*CEX - (max(x) - numpy.mean(x))*CEY \n",
    "        CMI = CMI/numpy.max(x)*numpy.max(y)     \n",
    "        return CMI\n",
    "        \n",
    "        "
   ]
  },
  {
   "cell_type": "markdown",
   "metadata": {},
   "source": [
    " # Calculate the minimum distance between in the x and y axis function"
   ]
  },
  {
   "cell_type": "code",
   "execution_count": 4,
   "metadata": {
    "collapsed": false
   },
   "outputs": [],
   "source": [
    "def min_int(x,y):\n",
    "    x_s = numpy.sort(x)\n",
    "    y_s = numpy.sort(y)\n",
    "\n",
    "    min_x = math.inf \n",
    "    min_y = math.inf\n",
    "    min_xy = math.inf\n",
    "\n",
    "    for i in range(len(x_s)-1):\n",
    "        interval =  x_s[i+1] -x_s[i]\n",
    "        if ( interval < min_x) and interval != 0:\n",
    "            min_x = interval\n",
    "\n",
    "    for j in range(len(y_s)-1):\n",
    "        interval =  y_s[i+1] -y_s[i]\n",
    "        if ( interval < min_y) and interval != 0:\n",
    "            min_y = interval\n",
    "\n",
    "    if (min_x < min_y):\n",
    "        min_xy = min_x\n",
    "    else:\n",
    "        min_xy = min_y\n",
    "        \n",
    "    return min_xy\n"
   ]
  },
  {
   "cell_type": "markdown",
   "metadata": {},
   "source": [
    "# Create random Data"
   ]
  },
  {
   "cell_type": "code",
   "execution_count": 5,
   "metadata": {
    "collapsed": false
   },
   "outputs": [],
   "source": [
    "sizeOfVector = 40\n",
    "x = numpy.random.rand(sizeOfVector) #For a given vector x with random value numbers and\n",
    "y = x\n",
    "#y = x + numpy.random.rand(sizeOfVector)*0.01\n",
    "#y = numpy.random.rand(sizeOfVector) #a given vector y with random value numbers\n",
    "\n",
    "\n",
    "#x = numpy.array([ 0.6358171 ,  0.99577192 , 0.64413589 , 0.68141891 , 0.64693171 , 0.27456281\n",
    "# , 0.08515774 , 0.24606362 , 0.79079224 , 0.12927175])\n",
    "\n",
    "#y = numpy.array([ 0.41911051 , 0.05476291 , 0.7635048 ,  0.05124239 , 0.7299192  , 0.1485072\n",
    "# , 0.92069862 , 0.85522989 , 0.88012141 , 0.6219437])"
   ]
  },
  {
   "cell_type": "markdown",
   "metadata": {},
   "source": [
    "# Compare CMI vs CMI Smooth"
   ]
  },
  {
   "cell_type": "code",
   "execution_count": 6,
   "metadata": {
    "collapsed": false
   },
   "outputs": [
    {
     "data": {
      "text/plain": [
       "0.22469075143924164"
      ]
     },
     "execution_count": 6,
     "metadata": {},
     "output_type": "execute_result"
    }
   ],
   "source": [
    "CMI_diff(x,y)"
   ]
  },
  {
   "cell_type": "code",
   "execution_count": 7,
   "metadata": {
    "collapsed": false
   },
   "outputs": [
    {
     "name": "stdout",
     "output_type": "stream",
     "text": [
      "3537\n"
     ]
    },
    {
     "data": {
      "text/plain": [
       "0.0498850667586868"
      ]
     },
     "execution_count": 7,
     "metadata": {},
     "output_type": "execute_result"
    }
   ],
   "source": [
    "print(math.ceil(1/min_int(x,y)))\n",
    "CMI_smooth_v1(x,y, math.ceil(1/min_int(x,y)))"
   ]
  },
  {
   "cell_type": "code",
   "execution_count": 8,
   "metadata": {
    "collapsed": false
   },
   "outputs": [
    {
     "data": {
      "text/plain": [
       "0.049539579357774033"
      ]
     },
     "execution_count": 8,
     "metadata": {},
     "output_type": "execute_result"
    }
   ],
   "source": [
    "CMI_smooth_v1(x,y, 100)"
   ]
  },
  {
   "cell_type": "code",
   "execution_count": 9,
   "metadata": {
    "collapsed": false
   },
   "outputs": [
    {
     "data": {
      "text/plain": [
       "0.049817479682909796"
      ]
     },
     "execution_count": 9,
     "metadata": {},
     "output_type": "execute_result"
    }
   ],
   "source": [
    "CMI_smooth_v1(x,y,1000)"
   ]
  },
  {
   "cell_type": "code",
   "execution_count": 10,
   "metadata": {
    "collapsed": false
   },
   "outputs": [
    {
     "data": {
      "text/plain": [
       "-0.23174413281629952"
      ]
     },
     "execution_count": 10,
     "metadata": {},
     "output_type": "execute_result"
    }
   ],
   "source": [
    "x1 = numpy.array([ 0.6358171 ,  0.99577192 , 0.64413589 , 0.68141891 , 0.64693171 , 0.27456281\n",
    " , 0.08515774 , 0.24606362 , 0.79079224 , 0.12927175])\n",
    "\n",
    "y1 = numpy.array([ 0.41911051 , 0.05476291 , 0.7635048 ,  0.05124239 , 0.7299192  , 0.1485072\n",
    " , 0.92069862 , 0.85522989 , 0.88012141 , 0.6219437])\n",
    "\n",
    "CMI_diff(x1,y1)"
   ]
  },
  {
   "cell_type": "code",
   "execution_count": null,
   "metadata": {
    "collapsed": true
   },
   "outputs": [],
   "source": []
  }
 ],
 "metadata": {
  "anaconda-cloud": {},
  "kernelspec": {
   "display_name": "Python [Root]",
   "language": "python",
   "name": "Python [Root]"
  },
  "language_info": {
   "codemirror_mode": {
    "name": "ipython",
    "version": 3
   },
   "file_extension": ".py",
   "mimetype": "text/x-python",
   "name": "python",
   "nbconvert_exporter": "python",
   "pygments_lexer": "ipython3",
   "version": "3.5.2"
  }
 },
 "nbformat": 4,
 "nbformat_minor": 0
}
