{
 "cells": [
  {
   "cell_type": "markdown",
   "metadata": {},
   "source": [
    "## Experimental Functions for Cumulative Entropy and Mutual Information\n",
    "\n",
    "These functions compute the mutual information based on the cumulative distribution function rather than the density as it is done in traditional definitions."
   ]
  },
  {
   "cell_type": "code",
   "execution_count": 2,
   "metadata": {
    "collapsed": false
   },
   "outputs": [
    {
     "ename": "ImportError",
     "evalue": "No module named 'rpy2'",
     "output_type": "error",
     "traceback": [
      "\u001b[0;31m---------------------------------------------------------------------------\u001b[0m",
      "\u001b[0;31mImportError\u001b[0m                               Traceback (most recent call last)",
      "\u001b[0;32m<ipython-input-2-f492221ed390>\u001b[0m in \u001b[0;36m<module>\u001b[0;34m()\u001b[0m\n\u001b[1;32m     10\u001b[0m \u001b[0mrandom\u001b[0m\u001b[1;33m.\u001b[0m\u001b[0mseed\u001b[0m\u001b[1;33m(\u001b[0m\u001b[1;36m4408765\u001b[0m\u001b[1;33m)\u001b[0m\u001b[1;33m\u001b[0m\u001b[0m\n\u001b[1;32m     11\u001b[0m \u001b[1;32mfrom\u001b[0m \u001b[0mstatsmodels\u001b[0m\u001b[1;33m.\u001b[0m\u001b[0mnonparametric\u001b[0m\u001b[1;33m.\u001b[0m\u001b[0mkernel_density\u001b[0m \u001b[1;32mimport\u001b[0m \u001b[0mKDEMultivariate\u001b[0m\u001b[1;33m\u001b[0m\u001b[0m\n\u001b[0;32m---> 12\u001b[0;31m \u001b[1;32mimport\u001b[0m \u001b[0mrpy2\u001b[0m\u001b[1;33m.\u001b[0m\u001b[0mrobjects\u001b[0m \u001b[1;32mas\u001b[0m \u001b[0mro\u001b[0m\u001b[1;33m\u001b[0m\u001b[0m\n\u001b[0m\u001b[1;32m     13\u001b[0m \u001b[1;32mfrom\u001b[0m \u001b[0mrpy2\u001b[0m\u001b[1;33m.\u001b[0m\u001b[0mrobjects\u001b[0m\u001b[1;33m.\u001b[0m\u001b[0mnumpy2ri\u001b[0m \u001b[1;32mimport\u001b[0m \u001b[0mnumpy2ri\u001b[0m\u001b[1;33m\u001b[0m\u001b[0m\n\u001b[1;32m     14\u001b[0m \u001b[0mro\u001b[0m\u001b[1;33m.\u001b[0m\u001b[0mconversion\u001b[0m\u001b[1;33m.\u001b[0m\u001b[0mpy2ri\u001b[0m \u001b[1;33m=\u001b[0m \u001b[0mnumpy2ri\u001b[0m\u001b[1;33m\u001b[0m\u001b[0m\n",
      "\u001b[0;31mImportError\u001b[0m: No module named 'rpy2'"
     ]
    }
   ],
   "source": [
    "import random\n",
    "import time\n",
    "import numpy as np\n",
    "import matplotlib.pyplot as plt\n",
    "import math\n",
    "import scipy\n",
    "from scipy.stats import pearsonr\n",
    "%matplotlib inline\n",
    "%config InlineBackend.figure_formats = {'svg',}\n",
    "random.seed(4408765) \n",
    "from statsmodels.nonparametric.kernel_density import KDEMultivariate\n",
    "import rpy2.robjects as ro\n",
    "from rpy2.robjects.numpy2ri import numpy2ri\n",
    "ro.conversion.py2ri = numpy2ri\n",
    "from rpy2.robjects.packages import importr\n",
    "mass = importr(\"MASS\")"
   ]
  },
  {
   "cell_type": "code",
   "execution_count": null,
   "metadata": {
    "collapsed": true
   },
   "outputs": [],
   "source": [
    "def xy_cor(N, rho, truncate=True):\n",
    "    \"This function generates two N-element Gaussian random vectors with correlation rho\"\n",
    "    xx = np.array([0, 1])\n",
    "    yy = np.array([0, 1])\n",
    "    means = [0, 1]  \n",
    "    stds = [0.5, 0.5]\n",
    "    covs = [[stds[0]**2, stds[0]*stds[1]*rho], \n",
    "        [stds[0]*stds[1]*rho, stds[1]**2]] \n",
    "    m = np.random.multivariate_normal(means, covs, N).T\n",
    "    x = (m[0] - np.mean(m[0]))/np.std(m[0])\n",
    "    y = (m[1] - np.mean(m[1]))/np.std(m[1])\n",
    "    if (truncate == True):\n",
    "        x = (x - np.min(x))/(np.max(x) - np.min(x))\n",
    "        y = (y - np.min(y))/(np.max(y) - np.min(y))\n",
    "        thres = 3\n",
    "        for i in range(N):\n",
    "            if x[i] > thres:\n",
    "                x[i] = thres\n",
    "            if x[i] < -thres:\n",
    "                x[i] = -thres\n",
    "            if y[i] > thres:\n",
    "                y[i] = thres\n",
    "            if y[i] < -thres:\n",
    "                y[i] = -thres  \n",
    "    return (x, y)"
   ]
  },
  {
   "cell_type": "markdown",
   "metadata": {},
   "source": [
    "### Define the Cumulative Mutual Information function based on the difference between joint and marginal Cumulative Entropies\n",
    "\n",
    "$$CMI(x, y) = (max(x) - \\bar{x}) CE(y) + (max(y) - \\bar{y}) CE(x) - CE(x, y)$$"
   ]
  },
  {
   "cell_type": "code",
   "execution_count": null,
   "metadata": {
    "collapsed": false
   },
   "outputs": [],
   "source": [
    "def CMI_diff(x, y):\n",
    "    \"This function computes the Cumulative Mutual Information based on the difference between joint and marginals CE's\"\n",
    "    x = x - np.mean(x)\n",
    "    y = y - np.mean(y)\n",
    "    N = len(x)\n",
    "    lattice_x = np.zeros((N, N), dtype=\"float_\")    # Array of lower x tile coordinates\n",
    "    lattice_y = np.zeros((N, N), dtype=\"float_\")     # Array of lower y tile coordinates\n",
    "    lattice_area = np.zeros((N, N), dtype=\"float_\")   # Array of tile areas\n",
    "    lattice_count = np.zeros((N, N), dtype=\"uint8\")    # Array of tile data counts\n",
    "    x_order = np.argsort(x, kind='quicksort')\n",
    "    x_sorted = x[x_order]\n",
    "    y_order = np.argsort(y, kind='quicksort')\n",
    "    y_sorted = y[y_order]\n",
    "    ind = np.arange(0, N, 1)\n",
    "    ind_x_order = np.argsort(x_order, kind='quicksort') \n",
    "    ind_x = ind[ind_x_order]\n",
    "    ind_y_order = np.argsort(y_order, kind='quicksort') \n",
    "    ind_y = ind[ind_y_order]\n",
    "    for i in range(N):\n",
    "        for j in range(N):\n",
    "            lattice_x[i, j] = x_sorted[i]\n",
    "            lattice_y[i, j] = y_sorted[j]\n",
    "            if i < (N-1) and j < (N-1):\n",
    "                lattice_area[i, j] = (x_sorted[i+1] - x_sorted[i])*(y_sorted[j+1] - y_sorted[j])\n",
    "        \n",
    "    for i in range(N): \n",
    "        lattice_count[ind_x[i], ind_y[i]] = 1 \n",
    "\n",
    "    np.cumsum(lattice_count, axis=1, out=lattice_count)\n",
    "    np.cumsum(lattice_count, axis=0, out=lattice_count)\n",
    "    CDF_xy = lattice_count/float(N)\n",
    "    CDF_x = np.arange(0, N, 1)/float(N)\n",
    "    CDF_y = CDF_x\n",
    "    CE_x = 0\n",
    "    CE_y = 0\n",
    "    for i in range(N-1):\n",
    "        if CDF_x[i] != 0:\n",
    "            CE_x = CE_x - (x_sorted[i+1] - x_sorted[i]) * CDF_x[i] * math.log(CDF_x[i])\n",
    "        if CDF_y[i] != 0:       \n",
    "            CE_y = CE_y - (y_sorted[i+1] - y_sorted[i]) * CDF_y[i] * math.log(CDF_y[i])\n",
    "\n",
    "    CE_xy = 0\n",
    "    for i in range(N):\n",
    "        for j in range(N):\n",
    "            if CDF_xy[i, j] != 0:\n",
    "                CE_xy = CE_xy - lattice_area[i, j] * CDF_xy[i, j] * math.log(CDF_xy[i, j])\n",
    "             \n",
    "    # Compute the CMI based on the difference between joint and marginals CE's        \n",
    "            \n",
    "    CMI = CE_xy - (max(y) - np.mean(y))*CE_x - (max(x) - np.mean(x))*CE_y  \n",
    "    #if CMI < 0:\n",
    "    #    CMI = 0\n",
    "\n",
    "    rho, p = pearsonr(x, y)\n",
    "    \n",
    "    #return (np.sign(rho)* CMI/(np.max(x)*np.max(y)))\n",
    "    return (CMI/(np.max(x)*np.max(y)))"
   ]
  },
  {
   "cell_type": "code",
   "execution_count": null,
   "metadata": {
    "collapsed": true
   },
   "outputs": [],
   "source": [
    "def CMI_diff_smooth(x, y, g=50):\n",
    "    \"This function computes the Cumulative Mutual Information based on the difference between joint and marginals CE's\"\n",
    "    \n",
    "    x = x - np.mean(x)\n",
    "    y = y - np.mean(y)\n",
    "\n",
    "    N = len(x)\n",
    "   \n",
    "    x_r = ((x - min(x))/(max(x) - min(x)))*g\n",
    "    y_r = ((y - min(y))/(max(y) - min(y)))*g\n",
    "    lattice_count_x = np.zeros(g+1, dtype=\"uint8\")    # Array of line data counts\n",
    "    lattice_count_y = np.zeros(g+1, dtype=\"uint8\")    # Array of line data counts\n",
    "    lattice_count_xy = np.zeros((g+1, g+1), dtype=\"uint8\")    # Array of tile data counts\n",
    "\n",
    "    for i in range(N):\n",
    "        x_index = np.floor(x_r[i])\n",
    "        y_index = np.floor(y_r[i])  \n",
    "        #    print(x_r[i], x_index)\n",
    "        lattice_count_x[x_index] = lattice_count_x[x_index] + 1\n",
    "        lattice_count_y[y_index] = lattice_count_y[y_index] + 1   \n",
    "        lattice_count_xy[x_index, y_index] =lattice_count_xy[x_index, y_index] + 1\n",
    "    \n",
    "    x_segment_length = ((max(x) - min(x))/g) \n",
    "    y_segment_length = ((max(y) - min(y))/g)\n",
    "    lattice_area = x_segment_length * y_segment_length \n",
    "    np.cumsum(lattice_count_x, out=lattice_count_x)  \n",
    "    np.cumsum(lattice_count_y, out=lattice_count_y)     \n",
    "    np.cumsum(lattice_count_xy, axis=1, out=lattice_count_xy)\n",
    "    np.cumsum(lattice_count_xy, axis=0, out=lattice_count_xy)\n",
    "\n",
    "    CDF_x = lattice_count_x/float(N)\n",
    "    CDF_y = lattice_count_y/float(N)\n",
    "    CDF_xy = lattice_count_xy/float(N)\n",
    "\n",
    "    CE_x = CE_y = 0\n",
    "    for i in range(g):\n",
    "        if CDF_x[i] != 0:\n",
    "            CE_x = CE_x - x_segment_length * CDF_x[i] * math.log(CDF_x[i])\n",
    "        if CDF_y[i] != 0:       \n",
    "            CE_y = CE_y - y_segment_length * CDF_y[i] * math.log(CDF_y[i])\n",
    "\n",
    "    CE_xy = 0\n",
    "    for i in range(g):\n",
    "        for j in range(g):\n",
    "            if CDF_xy[i, j] != 0:\n",
    "                CE_xy = CE_xy - lattice_area * CDF_xy[i, j] * math.log(CDF_xy[i, j])\n",
    "             \n",
    "        # Compute the CMI based on the difference between joint and marginals CE's        \n",
    "            \n",
    "    CMI = CE_xy - (max(y) - np.mean(y))*CE_x - (max(x) - np.mean(x))*CE_y  \n",
    "\n",
    "    rho, p = pearsonr(x, y)\n",
    "    \n",
    "    return (CMI/(np.max(x)*np.max(y)))"
   ]
  },
  {
   "cell_type": "markdown",
   "metadata": {},
   "source": [
    "### Define the Cumulative Mutual Information function based on the ratio of joint and marginal Cumulative Entropies\n",
    "\n",
    "$$CMI(x, y) = \\int \\int P(x,y) \\log \\left ( \\frac{P(x,y)}{P(x)P(y)} \\right ) dx dy$$"
   ]
  },
  {
   "cell_type": "code",
   "execution_count": null,
   "metadata": {
    "collapsed": true
   },
   "outputs": [],
   "source": [
    "def CMI_ratio(x, y):\n",
    "    \"This function computes the Cumulative Mutual Information based on the ratio of joint and marginals CE's\"      \n",
    "    x = x - np.mean(x)\n",
    "    y = y - np.mean(y)\n",
    "    N = len(x)\n",
    "    lattice_x = np.zeros((N, N), dtype=\"float_\")    # Array of lower x tile coordinates\n",
    "    lattice_y = np.zeros((N, N), dtype=\"float_\")     # Array of lower y tile coordinates\n",
    "    lattice_area = np.zeros((N, N), dtype=\"float_\")   # Array of tile areas\n",
    "    lattice_count = np.zeros((N, N), dtype=\"uint8\")    # Array of tile data counts\n",
    "    x_order = np.argsort(x, kind='quicksort')\n",
    "    x_sorted = x[x_order]\n",
    "    y_order = np.argsort(y, kind='quicksort')\n",
    "    y_sorted = y[y_order]\n",
    "    ind = np.arange(0, N, 1)\n",
    "    ind_x_order = np.argsort(x_order, kind='quicksort') \n",
    "    ind_x = ind[ind_x_order]\n",
    "    ind_y_order = np.argsort(y_order, kind='quicksort') \n",
    "    ind_y = ind[ind_y_order]\n",
    "    for i in range(N):\n",
    "        for j in range(N):\n",
    "            lattice_x[i, j] = x_sorted[i]\n",
    "            lattice_y[i, j] = y_sorted[j]\n",
    "            if i < (N-1) and j < (N-1):\n",
    "                lattice_area[i, j] = (x_sorted[i+1] - x_sorted[i])*(y_sorted[j+1] - y_sorted[j])\n",
    "        \n",
    "    for i in range(N): \n",
    "        lattice_count[ind_x[i], ind_y[i]] = 1 \n",
    "\n",
    "    np.cumsum(lattice_count, axis=1, out=lattice_count)\n",
    "    np.cumsum(lattice_count, axis=0, out=lattice_count)\n",
    "    CDF_xy = lattice_count/float(N)\n",
    "    CDF_x = np.arange(0, N, 1)/float(N)\n",
    "    CDF_y = CDF_x\n",
    "    \n",
    "    # Compute the CMI based on the ratio of joint and marginals CE's\n",
    "    \n",
    "    CMI = 0\n",
    "    for i in range(N):\n",
    "        for j in range(N):\n",
    "            if CDF_x[i] != 0 and CDF_y[j] != 0 and CDF_xy[i, j] != 0:\n",
    "                # CMI = CMI - lattice_area[i, j] * CDF_xy[i, j] * math.log(CDF_xy[i, j])/(CDF_x[i]*CDF_y[j])\n",
    "                CMI = CMI - lattice_area[i, j] * CDF_xy[i, j] * (math.log(CDF_xy[i, j]) - math.log(CDF_x[i]) - math.log(CDF_y[j]))\n",
    "        \n",
    "    rho, p = pearsonr(x, y)\n",
    "        \n",
    "    # return (np.sign(rho) * CMI/(np.max(x)*np.max(y)))\n",
    "    return (np.sign(rho) * CMI)"
   ]
  },
  {
   "cell_type": "code",
   "execution_count": null,
   "metadata": {
    "collapsed": true
   },
   "outputs": [],
   "source": [
    "def CMI_ratio_smooth(x, y, g=50):\n",
    "    \"This function computes the Cumulative Mutual Information based on the ratio between joint and marginals CE's\"\n",
    "    \n",
    "    x = x - np.mean(x)\n",
    "    y = y - np.mean(y)\n",
    "\n",
    "    N = len(x)\n",
    "   \n",
    "    x_r = ((x - min(x))/(max(x) - min(x)))*g\n",
    "    y_r = ((y - min(y))/(max(y) - min(y)))*g\n",
    "    lattice_count_x = np.zeros(g+1, dtype=\"uint8\")    # Array of line data counts\n",
    "    lattice_count_y = np.zeros(g+1, dtype=\"uint8\")    # Array of line data counts\n",
    "    lattice_count_xy = np.zeros((g+1, g+1), dtype=\"uint8\")    # Array of tile data counts\n",
    "\n",
    "    for i in range(N):\n",
    "        x_index = np.floor(x_r[i])\n",
    "        y_index = np.floor(y_r[i])  \n",
    "        #    print(x_r[i], x_index)\n",
    "        lattice_count_x[x_index] = lattice_count_x[x_index] + 1\n",
    "        lattice_count_y[y_index] = lattice_count_y[y_index] + 1   \n",
    "        lattice_count_xy[x_index, y_index] = lattice_count_xy[x_index, y_index] + 1\n",
    "    \n",
    "    x_segment_length = ((max(x) - min(x))/g) \n",
    "    y_segment_length = ((max(y) - min(y))/g)\n",
    "    lattice_area = x_segment_length * y_segment_length \n",
    "    np.cumsum(lattice_count_x, out=lattice_count_x)  \n",
    "    np.cumsum(lattice_count_y, out=lattice_count_y)     \n",
    "    np.cumsum(lattice_count_xy, axis=1, out=lattice_count_xy)\n",
    "    np.cumsum(lattice_count_xy, axis=0, out=lattice_count_xy)\n",
    "\n",
    "    CDF_x = lattice_count_x/float(N)\n",
    "    CDF_y = lattice_count_y/float(N)\n",
    "    CDF_xy = lattice_count_xy/float(N)\n",
    "\n",
    "# Compute the CMI based on the ratio of joint and marginals CE's\n",
    "    \n",
    "    CMI = 0\n",
    "    for i in range(g):\n",
    "        for j in range(g):\n",
    "            if CDF_x[i] != 0 and CDF_y[j] != 0 and CDF_xy[i, j] != 0:\n",
    "                CMI = CMI - lattice_area * CDF_xy[i, j] * math.log(CDF_xy[i, j])/(CDF_x[i]*CDF_y[j])\n",
    "        \n",
    "    rho, p = pearsonr(x, y)\n",
    "        \n",
    "    return (np.sign(rho) * CMI)\n"
   ]
  },
  {
   "cell_type": "markdown",
   "metadata": {},
   "source": [
    "### Functions for kernel-based Information Coefficient"
   ]
  },
  {
   "cell_type": "code",
   "execution_count": null,
   "metadata": {
    "collapsed": true
   },
   "outputs": [],
   "source": [
    "def rbcv(x):\n",
    "    \"\"\"\n",
    "    :param x: array-like, (n_samples,)\n",
    "    :return: float, bandwidth\n",
    "    \"\"\"\n",
    "    bandwidth = np.array(mass.bcv(x))[0]\n",
    "    return bandwidth\n",
    "\n",
    "\n",
    "def compute_mutual_information(x, y, n_grid=25, var_types='cc', bandwidth_scaling=None):\n",
    "    \"\"\"\n",
    "    :param x: array-like, (n_samples,)\n",
    "    :param y: array-like, (n_samples,)\n",
    "    :param n_grid: int, number of grid points at which to evaluate kernel density\n",
    "    :param var_types: two-character string of 'c' (continuous) or 'd' (discrete)\n",
    "    :param bandwidth_scaling: float\n",
    "    :return: float, mutual information\n",
    "\n",
    "    Notes\n",
    "    -----\n",
    "    Difference in bandwidth convention means bcv() delta must be divided by 4\n",
    "    Todo: Bandwidth selection method as robust and fast as R bcv() without invoking R. Maybe in Cython or C.\n",
    "    \"\"\"\n",
    "    x_set = np.logical_not(np.isnan(x))\n",
    "    y_set = np.logical_not(np.isnan(y))\n",
    "    overlap = x_set & y_set\n",
    "    n_overlap = overlap.sum()\n",
    "    jitter_scale = 1E-10\n",
    "    x_jitter, y_jitter = [jitter_scale * np.random.uniform(size=n_overlap) for _ in [x, y]]\n",
    "    x = x[overlap] + x_jitter\n",
    "    y = y[overlap] + y_jitter\n",
    "    xy = [x, y]\n",
    "    x_grid = np.linspace(x.min(), x.max(), n_grid)\n",
    "    y_grid = np.linspace(y.min(), y.max(), n_grid)\n",
    "    xg, yg = np.meshgrid(x_grid, y_grid)\n",
    "    grid = np.vstack([xg.flatten(), yg.flatten()])\n",
    "    delta = np.array([rbcv(z) for z in [x, y]]).reshape((2,)) / 4\n",
    "    if bandwidth_scaling:\n",
    "        delta *= bandwidth_scaling\n",
    "    kde = KDEMultivariate(xy, bw=delta, var_type=var_types)\n",
    "    fxy = kde.pdf(grid).reshape((n_grid, n_grid)).T + np.finfo(float).eps\n",
    "    dx = x_grid[1] - x_grid[0]\n",
    "    dy = y_grid[1] - y_grid[0]\n",
    "    pxy = fxy / (fxy.sum() * dx * dy)\n",
    "    px = pxy.sum(axis=0) * dy\n",
    "    py = pxy.sum(axis=1) * dx\n",
    "    pxg, pyg = np.meshgrid(px, py)\n",
    "    # cumsums for x and y\n",
    "    \n",
    "    mi = np.sum(pxy * np.log(pxy / (pxg * pyg))) * dx * dy\n",
    "    return mi\n",
    "\n",
    "\n",
    "def compute_information_coefficient(x, y, n_grid=25, var_types='cc'):\n",
    "    \"\"\"\n",
    "    :param x: array-like, (n_samples,)\n",
    "    :param y: array-like, (n_samples,)\n",
    "    :param n_grid: int, number of grid points at which to evaluate kernel density\n",
    "    :param var_types: two-character string of 'c' (continuous) or 'd' (discrete)\n",
    "    :return: float, information coefficient\n",
    "    \"\"\"\n",
    "    rho, p = pearsonr(x, y)\n",
    "    rho2 = abs(rho)\n",
    "    bandwidth_scaling = (1 + (-0.75)*rho2)\n",
    "    mi = compute_mutual_information(x, y, n_grid, var_types, bandwidth_scaling)\n",
    "    ic = np.sign(rho) * np.sqrt(1 - np.exp(- 2 * mi))\n",
    "    return ic\n",
    "\n"
   ]
  },
  {
   "cell_type": "markdown",
   "metadata": {},
   "source": [
    "### Generate correlated random data for incremental values of the correlation between x and y"
   ]
  },
  {
   "cell_type": "code",
   "execution_count": null,
   "metadata": {
    "collapsed": false
   },
   "outputs": [],
   "source": [
    "N = 300\n",
    "inst = 1\n",
    "\n",
    "corrs = np.arange(-1, 1, 0.05)\n",
    "T = len(corrs)\n",
    "CMI_aver_diff = np.zeros((T), dtype=\"float_\") \n",
    "CMI_aver_diff_smooth = np.zeros((T), dtype=\"float_\")\n",
    "CMI_aver_ratio = np.zeros((T), dtype=\"float_\") \n",
    "CMI_aver_ratio_smooth = np.zeros((T), dtype=\"float_\")\n",
    "\n",
    "IC_aver = np.zeros((T), dtype=\"float_\") \n",
    "\n",
    "for t in range(T):\n",
    "    CMI_diff_vals = np.zeros(inst, dtype=\"float_\") \n",
    "    CMI_diff_smooth_vals = np.zeros(inst, dtype=\"float_\")    \n",
    "    CMI_ratio_vals = np.zeros(inst, dtype=\"float_\") \n",
    "    CMI_ratio_smooth_vals = np.zeros(inst, dtype=\"float_\")    \n",
    "    IC_vals = np.zeros(inst, dtype=\"float_\")\n",
    "    for k in range(inst):\n",
    "        (x, y) = xy_cor(N, corrs[t], truncate=False)        \n",
    "        CMI_diff_vals[k] = CMI_diff(x, y)  \n",
    "        CMI_diff_smooth_vals[k] = CMI_diff_smooth(x, y, g=15)  \n",
    "        CMI_ratio_vals[k] = CMI_ratio(x, y)\n",
    "        CMI_ratio_smooth_vals[k] = CMI_ratio_smooth(x, y, g=15) \n",
    "        \n",
    "        IC_vals[k] = compute_information_coefficient(x, y)\n",
    "  \n",
    "    CMI_aver_diff[t] = np.mean(CMI_diff_vals)\n",
    "    CMI_aver_diff_smooth[t] = np.mean(CMI_diff_smooth_vals)\n",
    "    CMI_aver_ratio[t] = np.mean(CMI_ratio_vals)\n",
    "    CMI_aver_ratio_smooth[t] = np.mean(CMI_ratio_smooth_vals)\n",
    "    \n",
    "    IC_aver[t] = np.mean(IC_vals)"
   ]
  },
  {
   "cell_type": "code",
   "execution_count": null,
   "metadata": {
    "collapsed": true
   },
   "outputs": [],
   "source": [
    " (x, y) = xy_cor(N, 0.7, truncate=False)    "
   ]
  },
  {
   "cell_type": "code",
   "execution_count": null,
   "metadata": {
    "collapsed": false
   },
   "outputs": [],
   "source": [
    "CMI_diff(x, y)  "
   ]
  },
  {
   "cell_type": "code",
   "execution_count": null,
   "metadata": {
    "collapsed": false
   },
   "outputs": [],
   "source": [
    "CMI_diff_smooth(x, y, g=10) "
   ]
  },
  {
   "cell_type": "code",
   "execution_count": null,
   "metadata": {
    "collapsed": false
   },
   "outputs": [],
   "source": [
    "CMI_ratio_smooth(x, y, g=10) "
   ]
  },
  {
   "cell_type": "markdown",
   "metadata": {},
   "source": [
    "## Results using the CMI diff metric"
   ]
  },
  {
   "cell_type": "code",
   "execution_count": null,
   "metadata": {
    "collapsed": false
   },
   "outputs": [],
   "source": [
    "plt.plot(corrs, CMI_aver_diff, 'bo-')"
   ]
  },
  {
   "cell_type": "code",
   "execution_count": null,
   "metadata": {
    "collapsed": false
   },
   "outputs": [],
   "source": [
    "plt.plot(corrs, CMI_aver_diff_smooth, 'yo-')"
   ]
  },
  {
   "cell_type": "markdown",
   "metadata": {},
   "source": [
    "## Results using the CMI ratio metric"
   ]
  },
  {
   "cell_type": "code",
   "execution_count": null,
   "metadata": {
    "collapsed": false
   },
   "outputs": [],
   "source": [
    "plt.plot(corrs, CMI_aver_ratio, 'go-')"
   ]
  },
  {
   "cell_type": "code",
   "execution_count": null,
   "metadata": {
    "collapsed": false
   },
   "outputs": [],
   "source": [
    "plt.plot(corrs, CMI_aver_ratio_smooth, 'bo-')"
   ]
  },
  {
   "cell_type": "markdown",
   "metadata": {},
   "source": [
    "## Results using the IC metric"
   ]
  },
  {
   "cell_type": "code",
   "execution_count": null,
   "metadata": {
    "collapsed": false
   },
   "outputs": [],
   "source": [
    "plt.plot(corrs, IC_aver, 'ro-')"
   ]
  },
  {
   "cell_type": "markdown",
   "metadata": {},
   "source": [
    "### Basic timings"
   ]
  },
  {
   "cell_type": "code",
   "execution_count": null,
   "metadata": {
    "collapsed": false
   },
   "outputs": [],
   "source": [
    "x = np.random.uniform(low=0.0, high=1.0, size=200)\n",
    "y = np.random.uniform(low=0.0, high=1.0, size=200)\n",
    "\n",
    "N = 100\n",
    "start_time = time.time()\n",
    "for i in range(N):\n",
    "    z = CMI_diff(x, y)\n",
    "\n",
    "end_time = time.time() \n",
    "print(\"CMI_diff: Execution time %s seconds per function call \" % ((end_time - start_time)/N))\n",
    "\n",
    "start_time = time.time()\n",
    "for i in range(N):\n",
    "    z = CMI_ratio(x, y)\n",
    "\n",
    "end_time = time.time() \n",
    "print(\"CMI_ratio: Execution time %s seconds per function call \" % ((end_time - start_time)/N))\n",
    "\n",
    "start_time = time.time()\n",
    "for i in range(N):\n",
    "    z = compute_information_coefficient(x, y)\n",
    "\n",
    "end_time = time.time() \n",
    "print(\"IC: Execution time %s seconds per function call \" % ((end_time - start_time)/N))\n"
   ]
  },
  {
   "cell_type": "markdown",
   "metadata": {},
   "source": [
    "### References: \n",
    "\n",
    "Di Crescenzo and Longobardi. On cumulative entropies. Journal of Statistical Planning and Inference 12/2009; 139:4072-4087.\n",
    "https://www.researchgate.net/publication/48191880_On_cumulative_entropies"
   ]
  },
  {
   "cell_type": "code",
   "execution_count": null,
   "metadata": {
    "collapsed": false
   },
   "outputs": [],
   "source": [
    "N = 20\n",
    "(x, y) = xy_cor(N, 0.7, truncate=False) \n",
    "print(CMI_diff(x, y))\n",
    "\n",
    "x = x - np.mean(x)\n",
    "y = y - np.mean(y)\n",
    "\n",
    "N = len(x)\n",
    "g=50    \n",
    "x_r = ((x - min(x))/(max(x) - min(x)))*g\n",
    "y_r = ((y - min(y))/(max(y) - min(y)))*g\n",
    "lattice_count_x = np.zeros(g+1, dtype=\"uint8\")    # Array of line data counts\n",
    "lattice_count_y = np.zeros(g+1, dtype=\"uint8\")    # Array of line data counts\n",
    "lattice_count_xy = np.zeros((g+1, g+1), dtype=\"uint8\")    # Array of tile data counts\n",
    "\n",
    "for i in range(N):\n",
    "    x_index = np.floor(x_r[i])\n",
    "    y_index = np.floor(y_r[i])  \n",
    "#    print(x_r[i], x_index)\n",
    "    lattice_count_x[x_index] = lattice_count_x[x_index] + 1\n",
    "    lattice_count_y[y_index] = lattice_count_y[y_index] + 1   \n",
    "    lattice_count_xy[x_index, y_index] =lattice_count_xy[x_index, y_index] + 1\n",
    "    \n",
    "x_segment_length = ((max(x) - min(x))/g) \n",
    "y_segment_length = ((max(y) - min(y))/g)\n",
    "lattice_area = x_segment_length * y_segment_length \n",
    "np.cumsum(lattice_count_x, out=lattice_count_x)  \n",
    "np.cumsum(lattice_count_y, out=lattice_count_y)     \n",
    "np.cumsum(lattice_count_xy, axis=1, out=lattice_count_xy)\n",
    "np.cumsum(lattice_count_xy, axis=0, out=lattice_count_xy)\n",
    "\n",
    "CDF_x = lattice_count_x/float(N)\n",
    "CDF_y = lattice_count_y/float(N)\n",
    "CDF_xy = lattice_count_xy/float(N)\n",
    "\n",
    "CE_x = CE_y = 0\n",
    "for i in range(g):\n",
    "    if CDF_x[i] != 0:\n",
    "        CE_x = CE_x - x_segment_length * CDF_x[i] * math.log(CDF_x[i])\n",
    "    if CDF_y[i] != 0:       \n",
    "        CE_y = CE_y - y_segment_length * CDF_y[i] * math.log(CDF_y[i])\n",
    "\n",
    "CE_xy = 0\n",
    "for i in range(g):\n",
    "    for j in range(g):\n",
    "        if CDF_xy[i, j] != 0:\n",
    "            CE_xy = CE_xy - lattice_area * CDF_xy[i, j] * math.log(CDF_xy[i, j])\n",
    "             \n",
    "    # Compute the CMI based on the difference between joint and marginals CE's        \n",
    "            \n",
    "CMI = CE_xy - (max(y) - np.mean(y))*CE_x - (max(x) - np.mean(x))*CE_y  \n",
    "\n",
    "rho, p = pearsonr(x, y)\n",
    "    \n",
    "print(CMI/(np.max(x)*np.max(y)))\n"
   ]
  },
  {
   "cell_type": "code",
   "execution_count": null,
   "metadata": {
    "collapsed": false
   },
   "outputs": [],
   "source": [
    "CDF_xy\n"
   ]
  },
  {
   "cell_type": "code",
   "execution_count": null,
   "metadata": {
    "collapsed": false
   },
   "outputs": [],
   "source": [
    "\n",
    "    N = len(x)\n",
    "    \n",
    "    x_r = ((x-min(x))/(max(x)-min(x)))*g\n",
    "    y_r = ((y-min(y))/(max(y)-min(y)))*g\n",
    " \n",
    "    lattice_count_x = np.zeros(g+1, dtype=\"uint8\")    # Array of line data counts\n",
    "    lattice_count_y = np.zeros(g+1, dtype=\"uint8\")    # Array of line data counts\n",
    "    lattice_count_xy = np.zeros((g+1, g+1), dtype=\"uint8\")    # Array of tile data counts\n",
    "\n",
    "    for i in range(N):\n",
    "        x_index = np.ceil(x_r[i])\n",
    "        y_index = np.ceil(y_r[i])    \n",
    "        lattice_count_x[x_index] = 1 \n",
    "        lattice_count_y[y_index] = 1   \n",
    "        lattice_count_xy[x_index, y_index] = 1         \n",
    "\n",
    "    np.cumsum(lattice_count_x, out=lattice_count_x)  \n",
    "    np.cumsum(lattice_count_y, out=lattice_count_y)     \n",
    "    np.cumsum(lattice_count_xy, axis=1, out=lattice_count_xy)\n",
    "    np.cumsum(lattice_count_xy, axis=0, out=lattice_count_xy)\n",
    "\n",
    "    CDF_x = lattice_count_x/float(N)\n",
    "    CDF_y = lattice_count_y/float(N)\n",
    "    CDF_xy = lattice_count_xy/float(N)\n",
    "    \n",
    "    CE_x = CE_y = 0\n",
    "    for i in range(g):\n",
    "        if CDF_x[i] != 0:\n",
    "            CE_x = CE_x - CDF_x[i] * math.log(CDF_x[i])\n",
    "        if CDF_y[i] != 0:       \n",
    "            CE_y = CE_y - CDF_y[i] * math.log(CDF_y[i])\n",
    "\n",
    "    CE_xy = 0\n",
    "    for i in range(g):\n",
    "        for j in range(g):\n",
    "            if CDF_xy[i, j] != 0:\n",
    "                CE_xy = CE_xy - CDF_xy[i, j] * math.log(CDF_xy[i, j])\n",
    "             \n",
    "    # Compute the CMI based on the difference between joint and marginals CE's        \n",
    "            \n",
    "    CMI = CE_xy - (max(y) - np.mean(y))*CE_x - (max(x) - np.mean(x))*CE_y  \n",
    "\n",
    "    rho, p = pearsonr(x, y)\n",
    "    \n",
    "    return (CMI/(np.max(x)*np.max(y)))"
   ]
  }
 ],
 "metadata": {
  "anaconda-cloud": {},
  "kernelspec": {
   "display_name": "Python [default]",
   "language": "python",
   "name": "python3"
  },
  "language_info": {
   "codemirror_mode": {
    "name": "ipython",
    "version": 3
   },
   "file_extension": ".py",
   "mimetype": "text/x-python",
   "name": "python",
   "nbconvert_exporter": "python",
   "pygments_lexer": "ipython3",
   "version": "3.5.2"
  }
 },
 "nbformat": 4,
 "nbformat_minor": 0
}
