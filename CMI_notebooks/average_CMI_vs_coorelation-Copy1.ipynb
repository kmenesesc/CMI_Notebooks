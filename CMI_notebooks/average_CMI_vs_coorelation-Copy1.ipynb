{
 "cells": [
  {
   "cell_type": "code",
   "execution_count": 19,
   "metadata": {
    "collapsed": true
   },
   "outputs": [],
   "source": [
    "import matplotlib.pyplot as plt\n",
    "%matplotlib inline\n",
    "import numpy as np\n",
    "import math"
   ]
  },
  {
   "cell_type": "code",
   "execution_count": 20,
   "metadata": {
    "collapsed": true
   },
   "outputs": [],
   "source": [
    "#Distributive function takes in a grid of data in form of a nxn matrix where each point (i,j) is associated with a weight so that\n",
    "#A(i,j) = r for some r \\in \\mathbb{R} and distributes each weight evenly with its neighboring points (into fourths)\n",
    "def clusterEvenDistribute(A):\n",
    "    n = int(math.sqrt(A.size)) #Size of matrix\n",
    "    data_lattice_distribution = A.astype(float)/4 #Initialize the matrix that will contain the even distribution\n",
    "    weight = np.copy(data_lattice_distribution) #keep a copy for the weight of each point\n",
    "    for j in range (0,n):\n",
    "        for i in range(0,n):\n",
    "            if (i != n-1):\n",
    "                data_lattice_distribution[i+1][j] = data_lattice_distribution[i+1][j] + weight[i][j]\n",
    "            if ( j != 0 and i!= n-1):\n",
    "                data_lattice_distribution[i+1][j-1] = data_lattice_distribution[i+1][j-1] + weight[i][j]\n",
    "            if (j != 0):\n",
    "                data_lattice_distribution[i][j-1] = data_lattice_distribution[i][j-1] + weight[i][j]\n",
    "    return data_lattice_distribution"
   ]
  },
  {
   "cell_type": "code",
   "execution_count": 21,
   "metadata": {
    "collapsed": false
   },
   "outputs": [],
   "source": [
    "#CMI smooth takes in two data vectors, and creates bxb grid\n",
    "def CMI_smooth_v1(x,y,b):\n",
    "    \n",
    "    if len(x)==len(y):\n",
    "        sizeOfVector = len(x)\n",
    "        \n",
    "        x_r = ((x-min(x))/(max(x)-min(x)))*b #Let x' be the vector x rescaled on the interval [0,b]\n",
    "        y_r = ((y-min(y))/(max(y)-min(y)))*b #Let y' be the vector y rescaled on the interval [0,b]\n",
    "        \n",
    "        x=x-np.mean(x)\n",
    "        y=y-np.mean(y)\n",
    "        \n",
    "        #smooth data by aligning it with the bXb grid\n",
    "        x_p = x_r\n",
    "        y_p = y_r\n",
    "        for i in range(0,sizeOfVector):\n",
    "            x_p[i] = np.ceil(x_r[i])\n",
    "            y_p[i] = np.ceil(y_r[i])\n",
    "            \n",
    "        #This will create function distribution which will count the number of points at each grid square\n",
    "        distribution= [[0 for i in range(b+1)] for i in range(b+1)]\n",
    "        for j in range (0,b+1):\n",
    "            for i in range (0, b+1): #For every upper right corner   \n",
    "                counter = 0\n",
    "                for k in range (0, sizeOfVector): #For every point data given\n",
    "                    if (x_p[k]== i) and (y_p[k] == j): #If the point of the data matches the upper right hand corner\n",
    "                        counter = counter+1 #Then add 1 to the distribution counter\n",
    "                distribution[i][j] = counter\n",
    "                \n",
    "        \n",
    "        #Now we count the number of points on or below each square to create PXY\n",
    "        lattice_count = np.asarray(distribution)    # Array of tile data counts\n",
    "        np.cumsum(lattice_count,axis=1, out=lattice_count)\n",
    "        np.cumsum(lattice_count, axis=0, out=lattice_count)\n",
    "        \n",
    "        #Spread out the data        \n",
    "        lattice_count = clusterEvenDistribute(lattice_count)\n",
    "        \n",
    "        PXY = lattice_count/float(sizeOfVector)\n",
    "        \n",
    "        #Calculate CE(X,Y)\n",
    "        CEXY =0 \n",
    "        for i in range (1, b+1):\n",
    "            for j in range (1 ,b+1):\n",
    "                if (PXY[i][j] != 0):\n",
    "                    CEXY = CEXY - PXY[i][j]*np.log(PXY[i][j]) \n",
    "                    \n",
    "        #Scale CE(X,Y) back to original data interval\n",
    "        CEXY= CEXY*(((max(x)-min(x))/b))*(((max(y)-min(y))/b))\n",
    "\n",
    "        #Find Cumulative distribution function in 1D\n",
    "        P = [i/(b+1) for i in range(b +1)]\n",
    "\n",
    "        #Calculate Cumulative Entropy of X and Y (Note CE(X) = CE(Y) by symmetry)\n",
    "        CEXoY = 0\n",
    "        for i in range (0,b):\n",
    "            if(P[i] != 0):\n",
    "                CEXoY = CEXoY - P[i]*np.log(P[i])\n",
    "\n",
    "        #Scale back the data to original interval\n",
    "        CEX = CEXoY*(((max(x)-min(x))/b))\n",
    "        CEY = CEXoY*(((max(y)-min(y))/b))\n",
    "        \n",
    "        CMI = CEXY - (max(y) - np.mean(y))*CEX - (max(x) - np.mean(x))*CEY \n",
    "        CMI = CMI/pow(np.max(x)*np.max(y),2)     \n",
    "        return CMI\n",
    "        \n",
    "        "
   ]
  },
  {
   "cell_type": "code",
   "execution_count": 22,
   "metadata": {
    "collapsed": true
   },
   "outputs": [],
   "source": [
    "#Generate two N-elment Gaussian random vectors with coorrelation rho\n",
    "def xy_cor(N,rho,truncate = True):\n",
    "    xx = np.array([0, 1])\n",
    "    yy = np.array([0, 1])\n",
    "    means = [0, 1]  \n",
    "    stds = [0.5, 0.5]\n",
    "    covs = [[stds[0]**2, stds[0]*stds[1]*rho], \n",
    "        [stds[0]*stds[1]*rho, stds[1]**2]] \n",
    "    m = np.random.multivariate_normal(means, covs, N).T\n",
    "    x = (m[0] - np.mean(m[0]))/np.std(m[0])\n",
    "    y = (m[1] - np.mean(m[1]))/np.std(m[1])\n",
    "    if (truncate == True):\n",
    "        x = (x - np.min(x))/(np.max(x) - np.min(x))\n",
    "        y = (y - np.min(y))/(np.max(y) - np.min(y))\n",
    "        thres = 3\n",
    "        for i in range(N):\n",
    "            if x[i] > thres:\n",
    "                x[i] = thres\n",
    "            if x[i] < -thres:\n",
    "                x[i] = -thres\n",
    "            if y[i] > thres:\n",
    "                y[i] = thres\n",
    "            if y[i] < -thres:\n",
    "                y[i] = -thres  \n",
    "    return (x, y)"
   ]
  },
  {
   "cell_type": "code",
   "execution_count": 24,
   "metadata": {
    "collapsed": false
   },
   "outputs": [],
   "source": [
    "#Generate correlated random data for incremental values of the correlation between x and y with grid size M by M\n",
    "\n",
    "N = 200 #Length of vector x and y\n",
    "M = 100 #Creating an M by M grid\n",
    "inst = 1\n",
    "\n",
    "corrs = np.arange(-1,1,0.05)\n",
    "T = len(corrs)\n",
    "CMI_aver =  np.zeros(T, dtype= \"float_\")\n",
    "\n",
    "for t in range(T):\n",
    "    CMI_vals= np.zeros(inst, dtype = \"float_\")\n",
    "    for k in range(inst):\n",
    "        (x,y) = xy_cor(N, corrs[t], truncate = False)\n",
    "        CMI_vals[k] = CMI_smooth_v1(x,y,M)\n",
    "    CMI_aver[t] = np.mean(CMI_vals)\n",
    "        "
   ]
  },
  {
   "cell_type": "code",
   "execution_count": 25,
   "metadata": {
    "collapsed": false
   },
   "outputs": [
    {
     "data": {
      "text/plain": [
       "[<matplotlib.lines.Line2D at 0x1f208d70be0>]"
      ]
     },
     "execution_count": 25,
     "metadata": {},
     "output_type": "execute_result"
    },
    {
     "data": {
      "image/png": "[encoded data removed]",
      "text/plain": [
       "<matplotlib.figure.Figure at 0x1f207d1fac8>"
      ]
     },
     "metadata": {},
     "output_type": "display_data"
    }
   ],
   "source": [
    "#Graph CMI with first approach\n",
    "plt.plot(corrs, CMI_aver, 'bo-')"
   ]
  },
  {
   "cell_type": "code",
   "execution_count": null,
   "metadata": {
    "collapsed": true
   },
   "outputs": [],
   "source": []
  }
 ],
 "metadata": {
  "anaconda-cloud": {},
  "kernelspec": {
   "display_name": "Python [Root]",
   "language": "python",
   "name": "Python [Root]"
  },
  "language_info": {
   "codemirror_mode": {
    "name": "ipython",
    "version": 3
   },
   "file_extension": ".py",
   "mimetype": "text/x-python",
   "name": "python",
   "nbconvert_exporter": "python",
   "pygments_lexer": "ipython3",
   "version": "3.5.2"
  }
 },
 "nbformat": 4,
 "nbformat_minor": 0
}
