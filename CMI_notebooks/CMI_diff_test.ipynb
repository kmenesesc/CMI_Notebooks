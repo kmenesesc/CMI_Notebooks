{
 "cells": [
  {
   "cell_type": "code",
   "execution_count": 1,
   "metadata": {
    "collapsed": false
   },
   "outputs": [],
   "source": [
    "import random\n",
    "import time\n",
    "import numpy as np\n",
    "import matplotlib.pyplot as plt\n",
    "import math\n",
    "import scipy\n",
    "from scipy.stats import pearsonr\n",
    "%matplotlib inline"
   ]
  },
  {
   "cell_type": "markdown",
   "metadata": {},
   "source": [
    "# Random Data"
   ]
  },
  {
   "cell_type": "code",
   "execution_count": 2,
   "metadata": {
    "collapsed": true
   },
   "outputs": [],
   "source": [
    "x = np.array([ 0.6358171 ,  0.99577192 , 0.64413589 , 0.68141891 , 0.64693171 , 0.27456281 , 0.08515774 , 0.24606362 , 0.79079224 , 0.12927175])\n",
    "\n",
    "y = np.array([ 0.41911051 , 0.05476291 , 0.7635048 ,  0.05124239 , 0.7299192  , 0.1485072 , 0.92069862 , 0.85522989 , 0.88012141 , 0.6219437])"
   ]
  },
  {
   "cell_type": "code",
   "execution_count": 3,
   "metadata": {
    "collapsed": false
   },
   "outputs": [],
   "source": [
    "dummy = np.zeros(len(x))\n",
    "#plt.scatter(x,dummy)"
   ]
  },
  {
   "cell_type": "markdown",
   "metadata": {},
   "source": [
    "# "
   ]
  },
  {
   "cell_type": "code",
   "execution_count": 4,
   "metadata": {
    "collapsed": false
   },
   "outputs": [],
   "source": [
    "x = x - np.mean(x)\n",
    "y = y - np.mean(y)\n",
    "#plt.scatter(x, dummy)"
   ]
  },
  {
   "cell_type": "code",
   "execution_count": 10,
   "metadata": {
    "collapsed": false
   },
   "outputs": [
    {
     "name": "stdout",
     "output_type": "stream",
     "text": [
      "-0.0420891467695\n"
     ]
    }
   ],
   "source": [
    "    N = len(x)\n",
    "    lattice_x = np.zeros((N, N), dtype=\"float_\")    # Array of lower x tile coordinates\n",
    "    lattice_y = np.zeros((N, N), dtype=\"float_\")     # Array of lower y tile coordinates\n",
    "    lattice_area = np.zeros((N, N), dtype=\"float_\")   # Array of tile areas\n",
    "    lattice_count = np.zeros((N, N), dtype=\"uint8\")    # Array of tile data counts\n",
    "    x_order = np.argsort(x, kind='quicksort')\n",
    "    x_sorted = x[x_order]\n",
    "    y_order = np.argsort(y, kind='quicksort')\n",
    "    y_sorted = y[y_order]\n",
    "    ind = np.arange(0, N, 1)\n",
    "    ind_x_order = np.argsort(x_order, kind='quicksort') \n",
    "    ind_x = ind[ind_x_order]\n",
    "    ind_y_order = np.argsort(y_order, kind='quicksort') \n",
    "    ind_y = ind[ind_y_order]\n",
    "    for i in range(N):\n",
    "        for j in range(N):\n",
    "            lattice_x[i, j] = x_sorted[i]\n",
    "            lattice_y[i, j] = y_sorted[j]\n",
    "            if i < (N-1) and j < (N-1):\n",
    "                lattice_area[i, j] = (x_sorted[i+1] - x_sorted[i])*(y_sorted[j+1] - y_sorted[j])\n",
    "        \n",
    "    for i in range(N): \n",
    "        lattice_count[ind_x[i], ind_y[i]] = 1 \n",
    "\n",
    "    np.cumsum(lattice_count, axis=1, out=lattice_count)\n",
    "    np.cumsum(lattice_count, axis=0, out=lattice_count)\n",
    "    CDF_xy = lattice_count/float(N)\n",
    "    CDF_x = np.arange(0, N, 1)/float(N)\n",
    "    CDF_y = CDF_x\n",
    "    CE_x = 0\n",
    "    CE_y = 0\n",
    "    for i in range(N-1):\n",
    "        if CDF_x[i] != 0:\n",
    "            CE_x = CE_x - (x_sorted[i+1] - x_sorted[i]) * CDF_x[i] * math.log(CDF_x[i])\n",
    "        if CDF_y[i] != 0:       \n",
    "            CE_y = CE_y - (y_sorted[i+1] - y_sorted[i]) * CDF_y[i] * math.log(CDF_y[i])\n",
    "\n",
    "    CE_xy = 0\n",
    "    for i in range(N):\n",
    "        for j in range(N):\n",
    "            if CDF_xy[i, j] != 0:\n",
    "                CE_xy = CE_xy - lattice_area[i, j] * CDF_xy[i, j] * math.log(CDF_xy[i, j])\n",
    "             \n",
    "    # Compute the CMI based on the difference between joint and marginals CE's        \n",
    "            \n",
    "    CMI = CE_xy - (max(y) - np.mean(y))*CE_x - (max(x) - np.mean(x))*CE_y  \n",
    "    #if CMI < 0:\n",
    "    #    CMI = 0\n",
    "    print(CMI)\n",
    "    rho, p = pearsonr(x, y)\n",
    "    \n",
    "    #return (np.sign(rho)* CMI/(np.max(x)*np.max(y)))\n",
    "    \n",
    "    CMI = CMI/(np.max(x)*np.max(y))"
   ]
  },
  {
   "cell_type": "code",
   "execution_count": 6,
   "metadata": {
    "collapsed": false
   },
   "outputs": [
    {
     "name": "stdout",
     "output_type": "stream",
     "text": [
      "0.182729416338\n"
     ]
    }
   ],
   "source": [
    "print(CE_xy)"
   ]
  },
  {
   "cell_type": "code",
   "execution_count": 7,
   "metadata": {
    "collapsed": false
   },
   "outputs": [
    {
     "name": "stdout",
     "output_type": "stream",
     "text": [
      "10\n"
     ]
    }
   ],
   "source": [
    "print(len(x))"
   ]
  },
  {
   "cell_type": "code",
   "execution_count": 8,
   "metadata": {
    "collapsed": false
   },
   "outputs": [
    {
     "name": "stdout",
     "output_type": "stream",
     "text": [
      "0.182729416338\n"
     ]
    }
   ],
   "source": [
    "print(CE_xy)"
   ]
  },
  {
   "cell_type": "code",
   "execution_count": 9,
   "metadata": {
    "collapsed": false
   },
   "outputs": [
    {
     "name": "stdout",
     "output_type": "stream",
     "text": [
      "-0.231744132816\n"
     ]
    }
   ],
   "source": [
    "print(CMI)"
   ]
  },
  {
   "cell_type": "code",
   "execution_count": 11,
   "metadata": {
    "collapsed": false
   },
   "outputs": [
    {
     "name": "stdout",
     "output_type": "stream",
     "text": [
      "0.245035479592\n",
      "0.274737298086\n"
     ]
    }
   ],
   "source": [
    "print(CE_x)\n",
    "print(CE_y)"
   ]
  },
  {
   "cell_type": "code",
   "execution_count": 12,
   "metadata": {
    "collapsed": false
   },
   "outputs": [
    {
     "data": {
      "text/plain": [
       "array([ 0. ,  0.1,  0.2,  0.3,  0.4,  0.5,  0.6,  0.7,  0.8,  0.9])"
      ]
     },
     "execution_count": 12,
     "metadata": {},
     "output_type": "execute_result"
    }
   ],
   "source": [
    "CDF_x"
   ]
  },
  {
   "cell_type": "code",
   "execution_count": 13,
   "metadata": {
    "collapsed": false
   },
   "outputs": [
    {
     "data": {
      "text/plain": [
       "-0.042089146769471661"
      ]
     },
     "execution_count": 13,
     "metadata": {},
     "output_type": "execute_result"
    }
   ],
   "source": [
    " CE_xy - (max(y) - np.mean(y))*CE_x - (max(x) - np.mean(x))*CE_y  "
   ]
  },
  {
   "cell_type": "code",
   "execution_count": null,
   "metadata": {
    "collapsed": true
   },
   "outputs": [],
   "source": []
  }
 ],
 "metadata": {
  "anaconda-cloud": {},
  "kernelspec": {
   "display_name": "Python [Root]",
   "language": "python",
   "name": "Python [Root]"
  },
  "language_info": {
   "codemirror_mode": {
    "name": "ipython",
    "version": 3
   },
   "file_extension": ".py",
   "mimetype": "text/x-python",
   "name": "python",
   "nbconvert_exporter": "python",
   "pygments_lexer": "ipython3",
   "version": "3.5.2"
  }
 },
 "nbformat": 4,
 "nbformat_minor": 0
}
