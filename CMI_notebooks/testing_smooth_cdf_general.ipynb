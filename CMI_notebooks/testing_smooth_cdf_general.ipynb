{
 "cells": [
  {
   "cell_type": "code",
   "execution_count": 3,
   "metadata": {
    "collapsed": true
   },
   "outputs": [],
   "source": [
    "import matplotlib.pyplot as plt\n",
    "%matplotlib inline\n",
    "import numpy"
   ]
  },
  {
   "cell_type": "markdown",
   "metadata": {},
   "source": [
    "# Defining function"
   ]
  },
  {
   "cell_type": "code",
   "execution_count": 4,
   "metadata": {
    "collapsed": true
   },
   "outputs": [],
   "source": [
    "#CMI smooth takes in two data vectors, and creates bxb grid\n",
    "def CMI_smooth_v1(x,y,b):\n",
    "    \n",
    "    if len(x)==len(y):\n",
    "        sizeOfVector = len(x)\n",
    "        \n",
    "        x_r = ((x-min(x))/(max(x)-min(x)))*b #Let x' be the vector x rescaled on the interval [0,b]\n",
    "        y_r = ((y-min(y))/(max(y)-min(y)))*b #Let y' be the vector y rescaled on the interval [0,b]\n",
    "        \n",
    "        x=x-numpy.mean(x)\n",
    "        y=y-numpy.mean(y)\n",
    "        \n",
    "        #smooth data by aligning it with the bXb grid\n",
    "        x_p = x_r\n",
    "        y_p = y_r\n",
    "        for i in range(0,sizeOfVector):\n",
    "            x_p[i] = numpy.ceil(x_r[i])\n",
    "            y_p[i] = numpy.ceil(y_r[i])\n",
    "            \n",
    "        #This will create function distribution which will count the number of points at each grid square\n",
    "        distribution= [[0 for i in range(b+1)] for i in range(b+1)]\n",
    "        for j in range (0,b+1):\n",
    "            for i in range (0, b+1): #For every upper right corner   \n",
    "                counter = 0\n",
    "                for k in range (0, sizeOfVector): #For every point data given\n",
    "                    if (x_p[k]== i) and (y_p[k] == j): #If the point of the data matches the upper right hand corner\n",
    "                        counter = counter+1 #Then add 1 to the distribution counter\n",
    "                distribution[i][j] = counter\n",
    "                \n",
    "        #Now we count the number of points on or below each square to create PXY\n",
    "        lattice_count = numpy.asarray(distribution)    # Array of tile data counts\n",
    "        numpy.cumsum(lattice_count,axis=1, out=lattice_count)\n",
    "        numpy.cumsum(lattice_count, axis=0, out=lattice_count)\n",
    "        PXY = lattice_count/float(sizeOfVector)\n",
    "        \n",
    "        #Calculate CE(X,Y)\n",
    "        CEXY =0 \n",
    "        for i in range (1, b+1):\n",
    "            for j in range (1 ,b+1):\n",
    "                if (PXY[i][j] != 0):\n",
    "                    CEXY = CEXY - PXY[i][j]*numpy.log(PXY[i][j]) \n",
    "                    \n",
    "        #Scale CE(X,Y) back to original data interval\n",
    "        CEXY= CEXY*(((max(x)-min(x))/b))*(((max(y)-min(y))/b))\n",
    "\n",
    "        #Find Cumulative distribution function in 1D\n",
    "        P = [i/(b+1) for i in range(b +1)]\n",
    "\n",
    "        #Calculate Cumulative Entropy of X and Y (Note CE(X) = CE(Y) by symmetry)\n",
    "        CEXoY = 0\n",
    "        for i in range (0,b):\n",
    "            if(P[i] != 0):\n",
    "                CEXoY = CEXoY - P[i]*numpy.log(P[i])\n",
    "\n",
    "        #Scale back the data to original interval\n",
    "        CEX = CEXoY*(((max(x)-min(x))/b))\n",
    "        CEY = CEXoY*(((max(y)-min(y))/b))\n",
    "        \n",
    "        CMI = CEXY - (max(y) - numpy.mean(y))*CEX - (max(x) - numpy.mean(x))*CEY \n",
    "        CMI = CMI/pow(numpy.max(x)*numpy.max(y),2)     \n",
    "        return CMI\n",
    "        \n",
    "        "
   ]
  },
  {
   "cell_type": "markdown",
   "metadata": {},
   "source": [
    "# Some Samples"
   ]
  },
  {
   "cell_type": "markdown",
   "metadata": {},
   "source": [
    "# Random Vectors"
   ]
  },
  {
   "cell_type": "code",
   "execution_count": 5,
   "metadata": {
    "collapsed": true
   },
   "outputs": [],
   "source": [
    "sizeOfVector = 100\n",
    "x_rand =  numpy.random.rand(sizeOfVector)\n",
    "y_rand = numpy.random.rand(sizeOfVector)"
   ]
  },
  {
   "cell_type": "markdown",
   "metadata": {},
   "source": [
    "# Related Vectors"
   ]
  },
  {
   "cell_type": "code",
   "execution_count": 6,
   "metadata": {
    "collapsed": false
   },
   "outputs": [],
   "source": [
    "x_y = numpy.random.rand(sizeOfVector)\n",
    "y_x = x_y\n",
    "\n",
    "x_1 = numpy.random.rand(sizeOfVector)\n",
    "y_1 = x_1 + 0.01*numpy.random.rand(sizeOfVector)\n",
    "\n",
    "x_2 = numpy.random.rand(sizeOfVector)\n",
    "y_2 = x_1 + 0.1*numpy.random.rand(sizeOfVector)\n"
   ]
  },
  {
   "cell_type": "code",
   "execution_count": 7,
   "metadata": {
    "collapsed": false
   },
   "outputs": [
    {
     "name": "stdout",
     "output_type": "stream",
     "text": [
      "-0.0863735857426\n",
      "-0.0751321457499\n",
      "-0.0737635282347\n"
     ]
    }
   ],
   "source": [
    "print(CMI_smooth_v1(x_rand,y_rand,10))\n",
    "print(CMI_smooth_v1(x_rand,y_rand,100))\n",
    "print(CMI_smooth_v1(x_rand,y_rand,1000))"
   ]
  },
  {
   "cell_type": "code",
   "execution_count": 8,
   "metadata": {
    "collapsed": false
   },
   "outputs": [
    {
     "name": "stdout",
     "output_type": "stream",
     "text": [
      "1.09525843101\n",
      "1.03599544338\n",
      "1.04690057285\n"
     ]
    }
   ],
   "source": [
    "print(CMI_smooth_v1(x_y,y_x,10))\n",
    "print(CMI_smooth_v1(x_y,y_x,100))\n",
    "print(CMI_smooth_v1(x_y,y_x,1000))"
   ]
  },
  {
   "cell_type": "code",
   "execution_count": 9,
   "metadata": {
    "collapsed": false
   },
   "outputs": [
    {
     "name": "stdout",
     "output_type": "stream",
     "text": [
      "0.982468689834\n",
      "0.85882874695\n",
      "0.857581081427\n"
     ]
    }
   ],
   "source": [
    "print(CMI_smooth_v1(x_1,y_1,10))\n",
    "print(CMI_smooth_v1(x_1,y_1,100))\n",
    "print(CMI_smooth_v1(x_1,y_1,1000))"
   ]
  },
  {
   "cell_type": "code",
   "execution_count": 10,
   "metadata": {
    "collapsed": false
   },
   "outputs": [
    {
     "name": "stdout",
     "output_type": "stream",
     "text": [
      "0.256921858455\n",
      "0.0498033037482\n",
      "0.0537588553324\n"
     ]
    }
   ],
   "source": [
    "print(CMI_smooth_v1(x_2,y_2,10))\n",
    "print(CMI_smooth_v1(x_2,y_2,100))\n",
    "print(CMI_smooth_v1(x_2,y_2,1000))"
   ]
  },
  {
   "cell_type": "code",
   "execution_count": null,
   "metadata": {
    "collapsed": true
   },
   "outputs": [],
   "source": []
  }
 ],
 "metadata": {
  "anaconda-cloud": {},
  "kernelspec": {
   "display_name": "Python [default]",
   "language": "python",
   "name": "python3"
  },
  "language_info": {
   "codemirror_mode": {
    "name": "ipython",
    "version": 3
   },
   "file_extension": ".py",
   "mimetype": "text/x-python",
   "name": "python",
   "nbconvert_exporter": "python",
   "pygments_lexer": "ipython3",
   "version": "3.5.2"
  }
 },
 "nbformat": 4,
 "nbformat_minor": 0
}
