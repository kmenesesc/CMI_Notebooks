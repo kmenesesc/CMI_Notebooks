{
 "cells": [
  {
   "cell_type": "code",
   "execution_count": 1,
   "metadata": {
    "collapsed": true
   },
   "outputs": [],
   "source": [
    "#Given an nxn grid of points with weight associated to each one of them this function distributes each weight to the neighboring corners of the cells"
   ]
  },
  {
   "cell_type": "code",
   "execution_count": 2,
   "metadata": {
    "collapsed": true
   },
   "outputs": [],
   "source": [
    "import numpy as np\n",
    "import math"
   ]
  },
  {
   "cell_type": "code",
   "execution_count": 5,
   "metadata": {
    "collapsed": false
   },
   "outputs": [],
   "source": [
    "#size of the data\n",
    "n = 5\n",
    "#Create random data\n",
    "data_lattice = np.random.randint(10, size=(n, n))"
   ]
  },
  {
   "cell_type": "code",
   "execution_count": 6,
   "metadata": {
    "collapsed": false
   },
   "outputs": [
    {
     "data": {
      "text/plain": [
       "array([[2, 5, 4, 6, 2],\n",
       "       [0, 9, 8, 9, 4],\n",
       "       [6, 2, 5, 1, 4],\n",
       "       [5, 0, 7, 1, 9],\n",
       "       [5, 9, 7, 9, 1]])"
      ]
     },
     "execution_count": 6,
     "metadata": {},
     "output_type": "execute_result"
    }
   ],
   "source": [
    "data_lattice"
   ]
  },
  {
   "cell_type": "code",
   "execution_count": 7,
   "metadata": {
    "collapsed": false
   },
   "outputs": [
    {
     "data": {
      "text/plain": [
       "0"
      ]
     },
     "execution_count": 7,
     "metadata": {},
     "output_type": "execute_result"
    }
   ],
   "source": [
    "data_lattice[1][0]"
   ]
  },
  {
   "cell_type": "code",
   "execution_count": 157,
   "metadata": {
    "collapsed": false
   },
   "outputs": [
    {
     "data": {
      "text/plain": [
       "array([[ 0.5 ,  1.25,  1.  ,  1.5 ,  0.5 ],\n",
       "       [ 0.  ,  2.25,  2.  ,  2.25,  1.  ],\n",
       "       [ 1.5 ,  0.5 ,  1.25,  0.25,  1.  ],\n",
       "       [ 1.25,  0.  ,  1.75,  0.25,  2.25],\n",
       "       [ 1.25,  2.25,  1.75,  2.25,  0.25]])"
      ]
     },
     "execution_count": 157,
     "metadata": {},
     "output_type": "execute_result"
    }
   ],
   "source": [
    "data_lattice_distribution = data_lattice.astype(float)/4\n",
    "weight = np.copy(data_lattice_distribution)\n",
    "weight"
   ]
  },
  {
   "cell_type": "code",
   "execution_count": 158,
   "metadata": {
    "collapsed": false
   },
   "outputs": [],
   "source": [
    "\n",
    "for j in range (0,n):\n",
    "    for i in range(0,n):\n",
    "        if (i != n-1):\n",
    "            data_lattice_distribution[i+1][j] = data_lattice_distribution[i+1][j] + weight[i][j]\n",
    "        if ( j != 0 and i!= n-1):\n",
    "            data_lattice_distribution[i+1][j-1] = data_lattice_distribution[i+1][j-1] + weight[i][j]\n",
    "        if (j != 0):\n",
    "            data_lattice_distribution[i][j-1] = data_lattice_distribution[i][j-1] + weight[i][j]\n",
    "        "
   ]
  },
  {
   "cell_type": "code",
   "execution_count": 159,
   "metadata": {
    "collapsed": false
   },
   "outputs": [
    {
     "data": {
      "text/plain": [
       "array([[ 1.75,  2.25,  2.5 ,  2.  ,  0.5 ],\n",
       "       [ 4.  ,  6.5 ,  6.75,  5.25,  1.5 ],\n",
       "       [ 4.25,  6.  ,  5.75,  4.5 ,  2.  ],\n",
       "       [ 3.25,  3.5 ,  3.5 ,  3.75,  3.25],\n",
       "       [ 4.75,  5.75,  6.  ,  5.  ,  2.5 ]])"
      ]
     },
     "execution_count": 159,
     "metadata": {},
     "output_type": "execute_result"
    }
   ],
   "source": [
    "data_lattice_distribution"
   ]
  },
  {
   "cell_type": "code",
   "execution_count": 165,
   "metadata": {
    "collapsed": false
   },
   "outputs": [
    {
     "data": {
      "text/plain": [
       "5"
      ]
     },
     "execution_count": 165,
     "metadata": {},
     "output_type": "execute_result"
    }
   ],
   "source": [
    "int(math.sqrt(data_lattice_distribution.size))"
   ]
  },
  {
   "cell_type": "code",
   "execution_count": null,
   "metadata": {
    "collapsed": true
   },
   "outputs": [],
   "source": []
  }
 ],
 "metadata": {
  "kernelspec": {
   "display_name": "Python [Root]",
   "language": "python",
   "name": "Python [Root]"
  },
  "language_info": {
   "codemirror_mode": {
    "name": "ipython",
    "version": 3
   },
   "file_extension": ".py",
   "mimetype": "text/x-python",
   "name": "python",
   "nbconvert_exporter": "python",
   "pygments_lexer": "ipython3",
   "version": "3.5.2"
  }
 },
 "nbformat": 4,
 "nbformat_minor": 0
}
